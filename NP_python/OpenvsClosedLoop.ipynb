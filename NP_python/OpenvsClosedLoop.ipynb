{
 "cells": [
  {
   "cell_type": "code",
   "execution_count": 39,
   "metadata": {},
   "outputs": [],
   "source": [
    "import matplotlib.pyplot as plt\n",
    "import numpy as np\n",
    "%matplotlib inline\n",
    "import scipy.io as sio\n",
    "import sys\n",
    "sys.path.append('../helpers')\n",
    "import loadmat as lm\n",
    "from sklearn import linear_model\n",
    "from scipy import signal\n",
    "from sklearn.model_selection import cross_val_score, cross_validate\n",
    "import os\n",
    "from sklearn.metrics import make_scorer\n"
   ]
  },
  {
   "cell_type": "code",
   "execution_count": null,
   "metadata": {},
   "outputs": [],
   "source": []
  },
  {
   "cell_type": "code",
   "execution_count": 47,
   "metadata": {},
   "outputs": [],
   "source": [
    "cl_datasets = [r'Z:\\giocomo\\attialex\\NP_DATA\\CL_OL_Towers\\npI1_0418_mismatch_4.mat',\n",
    "           r'Z:\\giocomo\\attialex\\NP_DATA\\CL_OL_Towers\\npJ1_0522_mismatchTowers_1.mat',\n",
    "           r'Z:\\giocomo\\attialex\\NP_DATA\\CL_OL_Towers\\npAA1R_0419_mismatchTowers_1.mat',\n",
    "           r'Z:\\giocomo\\attialex\\NP_DATA\\CL_OL_Towers\\AA2R_0503_mismatchTowers_1.mat',\n",
    "           r'Z:\\giocomo\\attialex\\NP_DATA\\CL_OL_Towers\\npH3_0404_mismatch_1.mat'\n",
    "          ]"
   ]
  },
  {
   "cell_type": "code",
   "execution_count": 48,
   "metadata": {},
   "outputs": [],
   "source": [
    "ol_datasets = [r'Z:\\giocomo\\attialex\\NP_DATA\\CL_OL_Towers\\npI1_0418_playback_4.mat',\n",
    "           r'Z:\\giocomo\\attialex\\NP_DATA\\CL_OL_Towers\\npJ1_0522_playbackTowers_1.mat',\n",
    "           r'Z:\\giocomo\\attialex\\NP_DATA\\CL_OL_Towers\\npAA1R_0419_playbackTowers_1.mat',\n",
    "           r'Z:\\giocomo\\attialex\\NP_DATA\\CL_OL_Towers\\AA2R_0503_playbackTowers_1.mat',\n",
    "           r'Z:\\giocomo\\attialex\\NP_DATA\\CL_OL_Towers\\npH3_0404_playback_1.mat'\n",
    "          ]"
   ]
  },
  {
   "cell_type": "markdown",
   "metadata": {},
   "source": [
    "# Load cl data and train classifier"
   ]
  },
  {
   "cell_type": "code",
   "execution_count": 36,
   "metadata": {},
   "outputs": [],
   "source": [
    "def preprocess(data):\n",
    "    track_start = 0\n",
    "    track_end = 400\n",
    "    dx=5\n",
    "    dt=0.2\n",
    "    every_nth_time_bin = 10\n",
    "    numposbins = np.floor((track_end-track_start)/dx)\n",
    "    posx_edges = np.linspace(track_start,track_end,numposbins+1)\n",
    "    posx=data['posx']\n",
    "    post=data['post']\n",
    "    trial = data['trial']\n",
    "    sp =  data['sp']\n",
    "    # resample post, posx, and trial according to desired dt\n",
    "    post_resampled = post[0::every_nth_time_bin]\n",
    "    posx_resampled = posx[0::every_nth_time_bin]\n",
    "    trial_resampled = trial[0::every_nth_time_bin]\n",
    "\n",
    "    # get cell ids of \"good\" units\n",
    "    good_cells = sp['cids'][sp['cgs']==2]\n",
    "\n",
    "    # time bins for position decoding\n",
    "    numtimebins = len(post_resampled)\n",
    "    post_edges = np.squeeze(np.linspace(min(post)-dt/2,max(post)+dt/2,numtimebins+1))\n",
    "    post_centers = post_edges[range(0,len(post_edges)-1)]+dt/2\n",
    "\n",
    "    # posx categories for position decoding (binned)\n",
    "    posx_bin = np.digitize(posx_resampled,posx_edges)\n",
    "\n",
    "    # count spikes in each time bin for each cell\n",
    "    spikecount = np.empty((len(good_cells),len(post_resampled),))\n",
    "    spikecount[:] = np.nan\n",
    "    for cell_idx in range(len(good_cells)):   \n",
    "        spike_t = sp['st'][sp['clu']==good_cells[cell_idx]]\n",
    "        spikecount[cell_idx,:] = np.histogram(spike_t,bins=post_edges)[0]\n",
    "    data['spikecount']=np.transpose(spikecount)\n",
    "    data['posx_bin']=posx_bin\n",
    "    return data"
   ]
  },
  {
   "cell_type": "code",
   "execution_count": 52,
   "metadata": {},
   "outputs": [],
   "source": [
    "def custom_score(y, y_pred, **kwargs):\n",
    "    return np.mean(np.sqrt((y-y_pred)**2))"
   ]
  },
  {
   "cell_type": "code",
   "execution_count": 29,
   "metadata": {},
   "outputs": [],
   "source": [
    "cl_data = lm.loadmat(r'Z:\\giocomo\\attialex\\NP_DATA\\CL_OL_Towers\\npI1_0418_mismatch_4.mat')"
   ]
  },
  {
   "cell_type": "code",
   "execution_count": 37,
   "metadata": {},
   "outputs": [
    {
     "name": "stderr",
     "output_type": "stream",
     "text": [
      "C:\\Users\\attialex\\AppData\\Local\\Continuum\\anaconda3\\envs\\panda3d\\lib\\site-packages\\ipykernel_launcher.py:8: DeprecationWarning: object of type <class 'numpy.float64'> cannot be safely interpreted as an integer.\n",
      "  \n"
     ]
    }
   ],
   "source": [
    "cl_data = preprocess(cl_data)"
   ]
  },
  {
   "cell_type": "code",
   "execution_count": null,
   "metadata": {},
   "outputs": [],
   "source": []
  },
  {
   "cell_type": "code",
   "execution_count": 56,
   "metadata": {},
   "outputs": [],
   "source": [
    "def eval_and_train(dataset):\n",
    "    scoring = {'prec_macro': 'precision_macro','custom_macro': make_scorer(custom_score)}\n",
    "    model = linear_model.LogisticRegression(random_state=0, solver='lbfgs', multi_class='multinomial', max_iter=10000, C = 0.1)\n",
    "    #scores = cross_val_score(model, , cv=5)\n",
    "    scores = cross_validate(model,dataset['spikecount'],dataset['posx_bin'],scoring=scoring, cv=5,return_estimator=True)\n",
    "    \n",
    "    model = linear_model.LogisticRegression(random_state=0, solver='lbfgs', multi_class='multinomial', max_iter=10000, C = 0.1)\n",
    "    model.fit(dataset['spikecount'],dataset['posx_bin'])\n",
    "    return model,scores"
   ]
  },
  {
   "cell_type": "code",
   "execution_count": 41,
   "metadata": {},
   "outputs": [],
   "source": [
    "def process_datasets(filenames):\n",
    "    results=[]\n",
    "    for fn in filenames:\n",
    "        dataset=lm.loadmat(fn)\n",
    "        dataset=preprocess(dataset)\n",
    "        (model,scores)=eval_and_train(dataset)\n",
    "        results.append((model,scores))\n",
    "    return results\n",
    "        "
   ]
  },
  {
   "cell_type": "code",
   "execution_count": 57,
   "metadata": {},
   "outputs": [
    {
     "name": "stderr",
     "output_type": "stream",
     "text": [
      "C:\\Users\\attialex\\AppData\\Local\\Continuum\\anaconda3\\envs\\panda3d\\lib\\site-packages\\ipykernel_launcher.py:8: DeprecationWarning: object of type <class 'numpy.float64'> cannot be safely interpreted as an integer.\n",
      "  \n",
      "C:\\Users\\attialex\\AppData\\Local\\Continuum\\anaconda3\\envs\\panda3d\\lib\\site-packages\\sklearn\\metrics\\classification.py:1437: UndefinedMetricWarning: Precision is ill-defined and being set to 0.0 in labels with no predicted samples.\n",
      "  'precision', 'predicted', average, warn_for)\n",
      "C:\\Users\\attialex\\AppData\\Local\\Continuum\\anaconda3\\envs\\panda3d\\lib\\site-packages\\sklearn\\metrics\\classification.py:1437: UndefinedMetricWarning: Precision is ill-defined and being set to 0.0 in labels with no predicted samples.\n",
      "  'precision', 'predicted', average, warn_for)\n",
      "C:\\Users\\attialex\\AppData\\Local\\Continuum\\anaconda3\\envs\\panda3d\\lib\\site-packages\\sklearn\\metrics\\classification.py:1437: UndefinedMetricWarning: Precision is ill-defined and being set to 0.0 in labels with no predicted samples.\n",
      "  'precision', 'predicted', average, warn_for)\n",
      "C:\\Users\\attialex\\AppData\\Local\\Continuum\\anaconda3\\envs\\panda3d\\lib\\site-packages\\sklearn\\metrics\\classification.py:1437: UndefinedMetricWarning: Precision is ill-defined and being set to 0.0 in labels with no predicted samples.\n",
      "  'precision', 'predicted', average, warn_for)\n",
      "C:\\Users\\attialex\\AppData\\Local\\Continuum\\anaconda3\\envs\\panda3d\\lib\\site-packages\\sklearn\\metrics\\classification.py:1437: UndefinedMetricWarning: Precision is ill-defined and being set to 0.0 in labels with no predicted samples.\n",
      "  'precision', 'predicted', average, warn_for)\n",
      "C:\\Users\\attialex\\AppData\\Local\\Continuum\\anaconda3\\envs\\panda3d\\lib\\site-packages\\ipykernel_launcher.py:8: DeprecationWarning: object of type <class 'numpy.float64'> cannot be safely interpreted as an integer.\n",
      "  \n",
      "C:\\Users\\attialex\\AppData\\Local\\Continuum\\anaconda3\\envs\\panda3d\\lib\\site-packages\\sklearn\\metrics\\classification.py:1437: UndefinedMetricWarning: Precision is ill-defined and being set to 0.0 in labels with no predicted samples.\n",
      "  'precision', 'predicted', average, warn_for)\n",
      "C:\\Users\\attialex\\AppData\\Local\\Continuum\\anaconda3\\envs\\panda3d\\lib\\site-packages\\sklearn\\metrics\\classification.py:1437: UndefinedMetricWarning: Precision is ill-defined and being set to 0.0 in labels with no predicted samples.\n",
      "  'precision', 'predicted', average, warn_for)\n",
      "C:\\Users\\attialex\\AppData\\Local\\Continuum\\anaconda3\\envs\\panda3d\\lib\\site-packages\\sklearn\\metrics\\classification.py:1437: UndefinedMetricWarning: Precision is ill-defined and being set to 0.0 in labels with no predicted samples.\n",
      "  'precision', 'predicted', average, warn_for)\n",
      "C:\\Users\\attialex\\AppData\\Local\\Continuum\\anaconda3\\envs\\panda3d\\lib\\site-packages\\sklearn\\metrics\\classification.py:1437: UndefinedMetricWarning: Precision is ill-defined and being set to 0.0 in labels with no predicted samples.\n",
      "  'precision', 'predicted', average, warn_for)\n",
      "C:\\Users\\attialex\\AppData\\Local\\Continuum\\anaconda3\\envs\\panda3d\\lib\\site-packages\\sklearn\\metrics\\classification.py:1437: UndefinedMetricWarning: Precision is ill-defined and being set to 0.0 in labels with no predicted samples.\n",
      "  'precision', 'predicted', average, warn_for)\n",
      "C:\\Users\\attialex\\AppData\\Local\\Continuum\\anaconda3\\envs\\panda3d\\lib\\site-packages\\ipykernel_launcher.py:8: DeprecationWarning: object of type <class 'numpy.float64'> cannot be safely interpreted as an integer.\n",
      "  \n",
      "C:\\Users\\attialex\\AppData\\Local\\Continuum\\anaconda3\\envs\\panda3d\\lib\\site-packages\\sklearn\\model_selection\\_split.py:657: Warning: The least populated class in y has only 3 members, which is too few. The minimum number of members in any class cannot be less than n_splits=5.\n",
      "  % (min_groups, self.n_splits)), Warning)\n",
      "C:\\Users\\attialex\\AppData\\Local\\Continuum\\anaconda3\\envs\\panda3d\\lib\\site-packages\\sklearn\\metrics\\classification.py:1437: UndefinedMetricWarning: Precision is ill-defined and being set to 0.0 in labels with no predicted samples.\n",
      "  'precision', 'predicted', average, warn_for)\n",
      "C:\\Users\\attialex\\AppData\\Local\\Continuum\\anaconda3\\envs\\panda3d\\lib\\site-packages\\sklearn\\metrics\\classification.py:1437: UndefinedMetricWarning: Precision is ill-defined and being set to 0.0 in labels with no predicted samples.\n",
      "  'precision', 'predicted', average, warn_for)\n",
      "C:\\Users\\attialex\\AppData\\Local\\Continuum\\anaconda3\\envs\\panda3d\\lib\\site-packages\\sklearn\\metrics\\classification.py:1437: UndefinedMetricWarning: Precision is ill-defined and being set to 0.0 in labels with no predicted samples.\n",
      "  'precision', 'predicted', average, warn_for)\n",
      "C:\\Users\\attialex\\AppData\\Local\\Continuum\\anaconda3\\envs\\panda3d\\lib\\site-packages\\sklearn\\metrics\\classification.py:1437: UndefinedMetricWarning: Precision is ill-defined and being set to 0.0 in labels with no predicted samples.\n",
      "  'precision', 'predicted', average, warn_for)\n",
      "C:\\Users\\attialex\\AppData\\Local\\Continuum\\anaconda3\\envs\\panda3d\\lib\\site-packages\\sklearn\\metrics\\classification.py:1437: UndefinedMetricWarning: Precision is ill-defined and being set to 0.0 in labels with no predicted samples.\n",
      "  'precision', 'predicted', average, warn_for)\n",
      "C:\\Users\\attialex\\AppData\\Local\\Continuum\\anaconda3\\envs\\panda3d\\lib\\site-packages\\ipykernel_launcher.py:8: DeprecationWarning: object of type <class 'numpy.float64'> cannot be safely interpreted as an integer.\n",
      "  \n",
      "C:\\Users\\attialex\\AppData\\Local\\Continuum\\anaconda3\\envs\\panda3d\\lib\\site-packages\\sklearn\\metrics\\classification.py:1437: UndefinedMetricWarning: Precision is ill-defined and being set to 0.0 in labels with no predicted samples.\n",
      "  'precision', 'predicted', average, warn_for)\n",
      "C:\\Users\\attialex\\AppData\\Local\\Continuum\\anaconda3\\envs\\panda3d\\lib\\site-packages\\sklearn\\metrics\\classification.py:1437: UndefinedMetricWarning: Precision is ill-defined and being set to 0.0 in labels with no predicted samples.\n",
      "  'precision', 'predicted', average, warn_for)\n",
      "C:\\Users\\attialex\\AppData\\Local\\Continuum\\anaconda3\\envs\\panda3d\\lib\\site-packages\\sklearn\\metrics\\classification.py:1437: UndefinedMetricWarning: Precision is ill-defined and being set to 0.0 in labels with no predicted samples.\n",
      "  'precision', 'predicted', average, warn_for)\n",
      "C:\\Users\\attialex\\AppData\\Local\\Continuum\\anaconda3\\envs\\panda3d\\lib\\site-packages\\sklearn\\metrics\\classification.py:1437: UndefinedMetricWarning: Precision is ill-defined and being set to 0.0 in labels with no predicted samples.\n",
      "  'precision', 'predicted', average, warn_for)\n",
      "C:\\Users\\attialex\\AppData\\Local\\Continuum\\anaconda3\\envs\\panda3d\\lib\\site-packages\\sklearn\\metrics\\classification.py:1437: UndefinedMetricWarning: Precision is ill-defined and being set to 0.0 in labels with no predicted samples.\n",
      "  'precision', 'predicted', average, warn_for)\n",
      "C:\\Users\\attialex\\AppData\\Local\\Continuum\\anaconda3\\envs\\panda3d\\lib\\site-packages\\ipykernel_launcher.py:8: DeprecationWarning: object of type <class 'numpy.float64'> cannot be safely interpreted as an integer.\n",
      "  \n",
      "C:\\Users\\attialex\\AppData\\Local\\Continuum\\anaconda3\\envs\\panda3d\\lib\\site-packages\\sklearn\\model_selection\\_split.py:657: Warning: The least populated class in y has only 3 members, which is too few. The minimum number of members in any class cannot be less than n_splits=5.\n",
      "  % (min_groups, self.n_splits)), Warning)\n",
      "C:\\Users\\attialex\\AppData\\Local\\Continuum\\anaconda3\\envs\\panda3d\\lib\\site-packages\\sklearn\\metrics\\classification.py:1437: UndefinedMetricWarning: Precision is ill-defined and being set to 0.0 in labels with no predicted samples.\n",
      "  'precision', 'predicted', average, warn_for)\n",
      "C:\\Users\\attialex\\AppData\\Local\\Continuum\\anaconda3\\envs\\panda3d\\lib\\site-packages\\sklearn\\metrics\\classification.py:1437: UndefinedMetricWarning: Precision is ill-defined and being set to 0.0 in labels with no predicted samples.\n",
      "  'precision', 'predicted', average, warn_for)\n",
      "C:\\Users\\attialex\\AppData\\Local\\Continuum\\anaconda3\\envs\\panda3d\\lib\\site-packages\\sklearn\\metrics\\classification.py:1437: UndefinedMetricWarning: Precision is ill-defined and being set to 0.0 in labels with no predicted samples.\n",
      "  'precision', 'predicted', average, warn_for)\n"
     ]
    }
   ],
   "source": [
    "cl_results = process_datasets(cl_datasets)"
   ]
  },
  {
   "cell_type": "code",
   "execution_count": 65,
   "metadata": {},
   "outputs": [],
   "source": [
    "bl_precision=[np.mean(x[1]['test_prec_macro']) for x in cl_results]"
   ]
  },
  {
   "cell_type": "code",
   "execution_count": 67,
   "metadata": {},
   "outputs": [],
   "source": [
    "bl_custom=[np.mean(x[1]['test_custom_macro']) for x in cl_results]"
   ]
  },
  {
   "cell_type": "code",
   "execution_count": 73,
   "metadata": {},
   "outputs": [],
   "source": [
    "def score_ol_data(ol_datasets,cl_results):\n",
    "    eval_results = []\n",
    "    for iF in range(len(cl_results)):\n",
    "        dataset = lm.loadmat(ol_datasets[iF])\n",
    "        dataset = preprocess(dataset)\n",
    "        precision = cl_results[iF][0].score(dataset['spikecount'],dataset['posx_bin'])\n",
    "        custom = custom_score(cl_results[iF][0].predict(dataset['spikecount']),dataset['posx_bin'])\n",
    "        eval_results.append((precision,custom))\n",
    "    return eval_results"
   ]
  },
  {
   "cell_type": "code",
   "execution_count": 74,
   "metadata": {},
   "outputs": [
    {
     "name": "stderr",
     "output_type": "stream",
     "text": [
      "C:\\Users\\attialex\\AppData\\Local\\Continuum\\anaconda3\\envs\\panda3d\\lib\\site-packages\\ipykernel_launcher.py:8: DeprecationWarning: object of type <class 'numpy.float64'> cannot be safely interpreted as an integer.\n",
      "  \n",
      "C:\\Users\\attialex\\AppData\\Local\\Continuum\\anaconda3\\envs\\panda3d\\lib\\site-packages\\ipykernel_launcher.py:8: DeprecationWarning: object of type <class 'numpy.float64'> cannot be safely interpreted as an integer.\n",
      "  \n",
      "C:\\Users\\attialex\\AppData\\Local\\Continuum\\anaconda3\\envs\\panda3d\\lib\\site-packages\\ipykernel_launcher.py:8: DeprecationWarning: object of type <class 'numpy.float64'> cannot be safely interpreted as an integer.\n",
      "  \n",
      "C:\\Users\\attialex\\AppData\\Local\\Continuum\\anaconda3\\envs\\panda3d\\lib\\site-packages\\ipykernel_launcher.py:8: DeprecationWarning: object of type <class 'numpy.float64'> cannot be safely interpreted as an integer.\n",
      "  \n",
      "C:\\Users\\attialex\\AppData\\Local\\Continuum\\anaconda3\\envs\\panda3d\\lib\\site-packages\\ipykernel_launcher.py:8: DeprecationWarning: object of type <class 'numpy.float64'> cannot be safely interpreted as an integer.\n",
      "  \n"
     ]
    }
   ],
   "source": [
    "ol_results = score_ol_data(ol_datasets,cl_results)"
   ]
  },
  {
   "cell_type": "code",
   "execution_count": 96,
   "metadata": {},
   "outputs": [],
   "source": [
    "ol_precision = [x[0] for x in ol_results]\n",
    "ol_custom = [x[1] for x in ol_results]"
   ]
  },
  {
   "cell_type": "code",
   "execution_count": 88,
   "metadata": {},
   "outputs": [],
   "source": [
    "import seaborn as sns\n",
    "import pandas as pd"
   ]
  },
  {
   "cell_type": "code",
   "execution_count": 104,
   "metadata": {},
   "outputs": [],
   "source": [
    "precision = {'baseline':bl_precision, 'openloop':ol_precision}\n",
    "precision = pd.DataFrame(precision)\n",
    "custom = {'closedloop':bl_custom, 'openloop':ol_custom}\n",
    "custom = pd.DataFrame(custom)"
   ]
  },
  {
   "cell_type": "code",
   "execution_count": 101,
   "metadata": {},
   "outputs": [
    {
     "data": {
      "image/png": "[encoded data removed]",
      "text/plain": [
       "<Figure size 432x288 with 1 Axes>"
      ]
     },
     "metadata": {},
     "output_type": "display_data"
    }
   ],
   "source": [
    "sns.set(style=\"whitegrid\")\n",
    "\n",
    "tips = sns.load_dataset(\"tips\")\n",
    "\n",
    "sns.barplot(data=precision, capsize=.1, ci=\"sd\")\n",
    "ax=sns.swarmplot(data=precision, color=\"0\", alpha=.35)\n",
    "ax.set(ylabel='precision')\n",
    "plt.show()\n"
   ]
  },
  {
   "cell_type": "code",
   "execution_count": 108,
   "metadata": {},
   "outputs": [
    {
     "data": {
      "image/png": "[encoded data removed]",
      "text/plain": [
       "<Figure size 432x288 with 1 Axes>"
      ]
     },
     "metadata": {},
     "output_type": "display_data"
    }
   ],
   "source": [
    "sns.set(style=\"whitegrid\")\n",
    "\n",
    "tips = sns.load_dataset(\"tips\")\n",
    "\n",
    "sns.barplot(data=custom, capsize=.1, ci=\"sd\")\n",
    "ax=sns.swarmplot(data=custom, color=\"0\", alpha=.35)\n",
    "ax.set(ylabel='error [cm]',xlabel='coupling')\n",
    "plt.savefig('C:/temp/out_error.pdf')\n",
    "plt.show()"
   ]
  },
  {
   "cell_type": "code",
   "execution_count": 109,
   "metadata": {},
   "outputs": [
    {
     "name": "stderr",
     "output_type": "stream",
     "text": [
      "C:\\Users\\attialex\\AppData\\Local\\Continuum\\anaconda3\\envs\\panda3d\\lib\\site-packages\\ipykernel_launcher.py:8: DeprecationWarning: object of type <class 'numpy.float64'> cannot be safely interpreted as an integer.\n",
      "  \n",
      "C:\\Users\\attialex\\AppData\\Local\\Continuum\\anaconda3\\envs\\panda3d\\lib\\site-packages\\sklearn\\model_selection\\_split.py:657: Warning: The least populated class in y has only 2 members, which is too few. The minimum number of members in any class cannot be less than n_splits=5.\n",
      "  % (min_groups, self.n_splits)), Warning)\n",
      "C:\\Users\\attialex\\AppData\\Local\\Continuum\\anaconda3\\envs\\panda3d\\lib\\site-packages\\sklearn\\metrics\\classification.py:1437: UndefinedMetricWarning: Precision is ill-defined and being set to 0.0 in labels with no predicted samples.\n",
      "  'precision', 'predicted', average, warn_for)\n",
      "C:\\Users\\attialex\\AppData\\Local\\Continuum\\anaconda3\\envs\\panda3d\\lib\\site-packages\\sklearn\\metrics\\classification.py:1437: UndefinedMetricWarning: Precision is ill-defined and being set to 0.0 in labels with no predicted samples.\n",
      "  'precision', 'predicted', average, warn_for)\n",
      "C:\\Users\\attialex\\AppData\\Local\\Continuum\\anaconda3\\envs\\panda3d\\lib\\site-packages\\ipykernel_launcher.py:8: DeprecationWarning: object of type <class 'numpy.float64'> cannot be safely interpreted as an integer.\n",
      "  \n",
      "C:\\Users\\attialex\\AppData\\Local\\Continuum\\anaconda3\\envs\\panda3d\\lib\\site-packages\\sklearn\\model_selection\\_split.py:657: Warning: The least populated class in y has only 1 members, which is too few. The minimum number of members in any class cannot be less than n_splits=5.\n",
      "  % (min_groups, self.n_splits)), Warning)\n",
      "C:\\Users\\attialex\\AppData\\Local\\Continuum\\anaconda3\\envs\\panda3d\\lib\\site-packages\\sklearn\\metrics\\classification.py:1437: UndefinedMetricWarning: Precision is ill-defined and being set to 0.0 in labels with no predicted samples.\n",
      "  'precision', 'predicted', average, warn_for)\n",
      "C:\\Users\\attialex\\AppData\\Local\\Continuum\\anaconda3\\envs\\panda3d\\lib\\site-packages\\sklearn\\metrics\\classification.py:1437: UndefinedMetricWarning: Precision is ill-defined and being set to 0.0 in labels with no predicted samples.\n",
      "  'precision', 'predicted', average, warn_for)\n",
      "C:\\Users\\attialex\\AppData\\Local\\Continuum\\anaconda3\\envs\\panda3d\\lib\\site-packages\\sklearn\\metrics\\classification.py:1437: UndefinedMetricWarning: Precision is ill-defined and being set to 0.0 in labels with no predicted samples.\n",
      "  'precision', 'predicted', average, warn_for)\n",
      "C:\\Users\\attialex\\AppData\\Local\\Continuum\\anaconda3\\envs\\panda3d\\lib\\site-packages\\sklearn\\metrics\\classification.py:1437: UndefinedMetricWarning: Precision is ill-defined and being set to 0.0 in labels with no predicted samples.\n",
      "  'precision', 'predicted', average, warn_for)\n",
      "C:\\Users\\attialex\\AppData\\Local\\Continuum\\anaconda3\\envs\\panda3d\\lib\\site-packages\\sklearn\\metrics\\classification.py:1437: UndefinedMetricWarning: Precision is ill-defined and being set to 0.0 in labels with no predicted samples.\n",
      "  'precision', 'predicted', average, warn_for)\n",
      "C:\\Users\\attialex\\AppData\\Local\\Continuum\\anaconda3\\envs\\panda3d\\lib\\site-packages\\ipykernel_launcher.py:8: DeprecationWarning: object of type <class 'numpy.float64'> cannot be safely interpreted as an integer.\n",
      "  \n",
      "C:\\Users\\attialex\\AppData\\Local\\Continuum\\anaconda3\\envs\\panda3d\\lib\\site-packages\\sklearn\\metrics\\classification.py:1437: UndefinedMetricWarning: Precision is ill-defined and being set to 0.0 in labels with no predicted samples.\n",
      "  'precision', 'predicted', average, warn_for)\n",
      "C:\\Users\\attialex\\AppData\\Local\\Continuum\\anaconda3\\envs\\panda3d\\lib\\site-packages\\sklearn\\metrics\\classification.py:1437: UndefinedMetricWarning: Precision is ill-defined and being set to 0.0 in labels with no predicted samples.\n",
      "  'precision', 'predicted', average, warn_for)\n",
      "C:\\Users\\attialex\\AppData\\Local\\Continuum\\anaconda3\\envs\\panda3d\\lib\\site-packages\\sklearn\\metrics\\classification.py:1437: UndefinedMetricWarning: Precision is ill-defined and being set to 0.0 in labels with no predicted samples.\n",
      "  'precision', 'predicted', average, warn_for)\n",
      "C:\\Users\\attialex\\AppData\\Local\\Continuum\\anaconda3\\envs\\panda3d\\lib\\site-packages\\sklearn\\metrics\\classification.py:1437: UndefinedMetricWarning: Precision is ill-defined and being set to 0.0 in labels with no predicted samples.\n",
      "  'precision', 'predicted', average, warn_for)\n",
      "C:\\Users\\attialex\\AppData\\Local\\Continuum\\anaconda3\\envs\\panda3d\\lib\\site-packages\\sklearn\\metrics\\classification.py:1437: UndefinedMetricWarning: Precision is ill-defined and being set to 0.0 in labels with no predicted samples.\n",
      "  'precision', 'predicted', average, warn_for)\n",
      "C:\\Users\\attialex\\AppData\\Local\\Continuum\\anaconda3\\envs\\panda3d\\lib\\site-packages\\ipykernel_launcher.py:8: DeprecationWarning: object of type <class 'numpy.float64'> cannot be safely interpreted as an integer.\n",
      "  \n",
      "C:\\Users\\attialex\\AppData\\Local\\Continuum\\anaconda3\\envs\\panda3d\\lib\\site-packages\\sklearn\\model_selection\\_split.py:657: Warning: The least populated class in y has only 2 members, which is too few. The minimum number of members in any class cannot be less than n_splits=5.\n",
      "  % (min_groups, self.n_splits)), Warning)\n",
      "C:\\Users\\attialex\\AppData\\Local\\Continuum\\anaconda3\\envs\\panda3d\\lib\\site-packages\\sklearn\\metrics\\classification.py:1437: UndefinedMetricWarning: Precision is ill-defined and being set to 0.0 in labels with no predicted samples.\n",
      "  'precision', 'predicted', average, warn_for)\n",
      "C:\\Users\\attialex\\AppData\\Local\\Continuum\\anaconda3\\envs\\panda3d\\lib\\site-packages\\sklearn\\metrics\\classification.py:1437: UndefinedMetricWarning: Precision is ill-defined and being set to 0.0 in labels with no predicted samples.\n",
      "  'precision', 'predicted', average, warn_for)\n",
      "C:\\Users\\attialex\\AppData\\Local\\Continuum\\anaconda3\\envs\\panda3d\\lib\\site-packages\\sklearn\\metrics\\classification.py:1437: UndefinedMetricWarning: Precision is ill-defined and being set to 0.0 in labels with no predicted samples.\n",
      "  'precision', 'predicted', average, warn_for)\n",
      "C:\\Users\\attialex\\AppData\\Local\\Continuum\\anaconda3\\envs\\panda3d\\lib\\site-packages\\sklearn\\metrics\\classification.py:1437: UndefinedMetricWarning: Precision is ill-defined and being set to 0.0 in labels with no predicted samples.\n",
      "  'precision', 'predicted', average, warn_for)\n",
      "C:\\Users\\attialex\\AppData\\Local\\Continuum\\anaconda3\\envs\\panda3d\\lib\\site-packages\\sklearn\\metrics\\classification.py:1437: UndefinedMetricWarning: Precision is ill-defined and being set to 0.0 in labels with no predicted samples.\n",
      "  'precision', 'predicted', average, warn_for)\n",
      "C:\\Users\\attialex\\AppData\\Local\\Continuum\\anaconda3\\envs\\panda3d\\lib\\site-packages\\ipykernel_launcher.py:8: DeprecationWarning: object of type <class 'numpy.float64'> cannot be safely interpreted as an integer.\n",
      "  \n",
      "C:\\Users\\attialex\\AppData\\Local\\Continuum\\anaconda3\\envs\\panda3d\\lib\\site-packages\\sklearn\\model_selection\\_split.py:657: Warning: The least populated class in y has only 3 members, which is too few. The minimum number of members in any class cannot be less than n_splits=5.\n",
      "  % (min_groups, self.n_splits)), Warning)\n",
      "C:\\Users\\attialex\\AppData\\Local\\Continuum\\anaconda3\\envs\\panda3d\\lib\\site-packages\\sklearn\\metrics\\classification.py:1437: UndefinedMetricWarning: Precision is ill-defined and being set to 0.0 in labels with no predicted samples.\n",
      "  'precision', 'predicted', average, warn_for)\n",
      "C:\\Users\\attialex\\AppData\\Local\\Continuum\\anaconda3\\envs\\panda3d\\lib\\site-packages\\sklearn\\metrics\\classification.py:1437: UndefinedMetricWarning: Precision is ill-defined and being set to 0.0 in labels with no predicted samples.\n",
      "  'precision', 'predicted', average, warn_for)\n",
      "C:\\Users\\attialex\\AppData\\Local\\Continuum\\anaconda3\\envs\\panda3d\\lib\\site-packages\\sklearn\\metrics\\classification.py:1437: UndefinedMetricWarning: Precision is ill-defined and being set to 0.0 in labels with no predicted samples.\n",
      "  'precision', 'predicted', average, warn_for)\n",
      "C:\\Users\\attialex\\AppData\\Local\\Continuum\\anaconda3\\envs\\panda3d\\lib\\site-packages\\sklearn\\metrics\\classification.py:1437: UndefinedMetricWarning: Precision is ill-defined and being set to 0.0 in labels with no predicted samples.\n",
      "  'precision', 'predicted', average, warn_for)\n"
     ]
    }
   ],
   "source": [
    "ol_results = process_datasets(ol_datasets)"
   ]
  },
  {
   "cell_type": "code",
   "execution_count": 111,
   "metadata": {},
   "outputs": [
    {
     "data": {
      "text/plain": [
       "[0.14081185532298587,\n",
       " 0.1540033449949086,\n",
       " 0.33343725980650246,\n",
       " 0.2422070798574795,\n",
       " 0.2397544985085605]"
      ]
     },
     "execution_count": 111,
     "metadata": {},
     "output_type": "execute_result"
    }
   ],
   "source": [
    "ol_precision=[np.mean(x[1]['test_prec_macro']) for x in cl_results]\n",
    "ol_precision"
   ]
  }
 ],
 "metadata": {
  "kernelspec": {
   "display_name": "Python 3",
   "language": "python",
   "name": "python3"
  },
  "language_info": {
   "codemirror_mode": {
    "name": "ipython",
    "version": 3
   },
   "file_extension": ".py",
   "mimetype": "text/x-python",
   "name": "python",
   "nbconvert_exporter": "python",
   "pygments_lexer": "ipython3",
   "version": "3.7.2"
  }
 },
 "nbformat": 4,
 "nbformat_minor": 2
}
