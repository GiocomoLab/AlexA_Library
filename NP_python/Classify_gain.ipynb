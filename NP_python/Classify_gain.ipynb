{
 "cells": [
  {
   "cell_type": "code",
   "execution_count": 76,
   "metadata": {},
   "outputs": [],
   "source": [
    "# run from suite2p environment!!\n",
    "import matplotlib.pyplot as plt\n",
    "import numpy as np\n",
    "%matplotlib inline\n",
    "import scipy.io as sio\n",
    "import sys\n",
    "sys.path.append('../helpers')\n",
    "import loadmat as lm\n",
    "from sklearn import linear_model\n",
    "from scipy import signal\n",
    "from sklearn.model_selection import cross_val_score, cross_validate\n",
    "import os\n",
    "from sklearn.metrics import make_scorer, confusion_matrix\n",
    "import glob\n",
    "from sklearn.metrics import mean_absolute_error\n",
    "import seaborn as sns\n",
    "from helpers import preprocess"
   ]
  },
  {
   "cell_type": "code",
   "execution_count": 4,
   "metadata": {},
   "outputs": [],
   "source": []
  },
  {
   "cell_type": "code",
   "execution_count": 37,
   "metadata": {},
   "outputs": [
    {
     "name": "stdout",
     "output_type": "stream",
     "text": [
      "Z:/giocomo/attialex/NP_DATA\\npG1_1219_gain_1.mat\n",
      "Z:/giocomo/attialex/NP_DATA\\npG2_1211_gain_1.mat\n",
      "Z:/giocomo/attialex/NP_DATA\\npG2_1213_gain_1.mat\n",
      "Z:/giocomo/attialex/NP_DATA\\npG4_1203_gain_2.mat\n",
      "Z:/giocomo/attialex/NP_DATA\\npG5_1207_gain_1.mat\n",
      "Z:/giocomo/attialex/NP_DATA\\npH3_0329_baseline_gain_1.mat\n",
      "Z:/giocomo/attialex/NP_DATA\\npH3_0401_gain_1.mat\n",
      "Z:/giocomo/attialex/NP_DATA\\npH3_0403_gain_1.mat\n",
      "Z:/giocomo/attialex/NP_DATA\\npH4_0318_baseline_with_gain_1_KS2.mat\n",
      "Z:/giocomo/attialex/NP_DATA\\npH5_0325_gain_1.mat\n",
      "Z:/giocomo/attialex/NP_DATA\\npH5_0327_gain_1.mat\n",
      "Z:/giocomo/attialex/NP_DATA\\npI1_0415_gain_1.mat\n",
      "Z:/giocomo/attialex/NP_DATA\\npI1_0418_gain_3.mat\n",
      "Z:/giocomo/attialex/NP_DATA\\npI3_0420_baseline_gain_1.mat\n",
      "Z:/giocomo/attialex/NP_DATA\\npI3_0422_gain_1.mat\n",
      "Z:/giocomo/attialex/NP_DATA\\npI4_0420_baseline_gain_1.mat\n",
      "Z:/giocomo/attialex/NP_DATA\\npI4_0422_gain_1.mat\n",
      "Z:/giocomo/attialex/NP_DATA\\npI5_0415_gain_1.mat\n",
      "Z:/giocomo/attialex/NP_DATA\\npI5_0418_gain_1.mat\n",
      "Z:/giocomo/attialex/NP_DATA\\npJ1_0522_gain_1.mat\n",
      "Z:/giocomo/attialex/NP_DATA\\npJ1_0524_gain_1.mat\n",
      "Z:/giocomo/attialex/NP_DATA\\npJ1_0524_gain_2.mat\n",
      "Z:/giocomo/attialex/NP_DATA\\npJ1_0524_gain_combined.mat\n",
      "Z:/giocomo/attialex/NP_DATA\\npJ2_0511_baseline_gain_1.mat\n",
      "Z:/giocomo/attialex/NP_DATA\\npJ2_0513_gain_1.mat\n",
      "Z:/giocomo/attialex/NP_DATA\\npJ2_0513_gain_2.mat\n",
      "Z:/giocomo/attialex/NP_DATA\\npJ2_0513_gain_combined.mat\n",
      "Z:/giocomo/attialex/NP_DATA\\npJ3_0504_baseline_gain_1.mat\n",
      "Z:/giocomo/attialex/NP_DATA\\npJ3_0505_gain_1.mat\n",
      "Z:/giocomo/attialex/NP_DATA\\npJ3_0505_gain_2.mat\n",
      "Z:/giocomo/attialex/NP_DATA\\npJ3_0505_gain_combined.mat\n",
      "Z:/giocomo/attialex/NP_DATA\\npJ4_0511_baseline_gain_1.mat\n",
      "Z:/giocomo/attialex/NP_DATA\\npJ4_0515_gain_1.mat\n",
      "Z:/giocomo/attialex/NP_DATA\\npJ5_0504_baseline_gain_3.mat\n",
      "Z:/giocomo/attialex/NP_DATA\\npJ5_0506_gain_1.mat\n",
      "Z:/giocomo/attialex/NP_DATA\\npJ5_0506_gain_2.mat\n",
      "Z:/giocomo/attialex/NP_DATA\\npJ5_0506_gain_combined.mat\n"
     ]
    }
   ],
   "source": [
    "files = glob.glob('Z:/giocomo/attialex/NP_DATA/np*_gain_*.mat')\n",
    "for iF in files:\n",
    "    print(iF)"
   ]
  },
  {
   "cell_type": "code",
   "execution_count": 38,
   "metadata": {},
   "outputs": [],
   "source": [
    "test_data = lm.loadmat(files[1])"
   ]
  },
  {
   "cell_type": "code",
   "execution_count": 39,
   "metadata": {},
   "outputs": [],
   "source": [
    "test_data = preprocess(test_data)"
   ]
  },
  {
   "cell_type": "code",
   "execution_count": 40,
   "metadata": {},
   "outputs": [
    {
     "data": {
      "text/plain": [
       "[<matplotlib.lines.Line2D at 0x1e808dd3710>]"
      ]
     },
     "execution_count": 40,
     "metadata": {},
     "output_type": "execute_result"
    },
    {
     "data": {
      "image/png": "[encoded data removed]",
      "text/plain": [
       "<Figure size 432x288 with 1 Axes>"
      ]
     },
     "metadata": {},
     "output_type": "display_data"
    }
   ],
   "source": [
    "bl_trials = np.nonzero(np.all([test_data['trial_contrast']==100, test_data['trial_gain']==1],axis = 0))\n",
    "trialidx = np.isin(test_data['trial_resampled'],bl_trials)\n",
    "plt.plot(trialidx)"
   ]
  },
  {
   "cell_type": "code",
   "execution_count": 41,
   "metadata": {},
   "outputs": [
    {
     "data": {
      "text/plain": [
       "LogisticRegression(C=0.1, class_weight=None, dual=False, fit_intercept=True,\n",
       "                   intercept_scaling=1, l1_ratio=None, max_iter=10000,\n",
       "                   multi_class='multinomial', n_jobs=None, penalty='l2',\n",
       "                   random_state=0, solver='lbfgs', tol=0.0001, verbose=0,\n",
       "                   warm_start=False)"
      ]
     },
     "execution_count": 41,
     "metadata": {},
     "output_type": "execute_result"
    }
   ],
   "source": [
    "model = linear_model.LogisticRegression(random_state=0, solver='lbfgs', multi_class='multinomial', max_iter=10000, C = 0.1)\n",
    "model.fit(test_data['spikecount'][trialidx,:],test_data['posx_bin'][trialidx])"
   ]
  },
  {
   "cell_type": "code",
   "execution_count": 52,
   "metadata": {},
   "outputs": [
    {
     "name": "stdout",
     "output_type": "stream",
     "text": [
      "2.9281989570798235\n",
      "-0.6179302045728039\n",
      "6.241852487135506\n",
      "-0.49914236706689535\n",
      "13.36935166994106\n",
      "-2.9096267190569747\n",
      "12.852724594992637\n",
      "-2.7378497790868925\n",
      "14.820445609436435\n",
      "-2.600262123197903\n"
     ]
    }
   ],
   "source": [
    "for gain in [0.8, 0.7, 0.6, 0.5]:\n",
    "    bl_trials = np.nonzero(np.all([test_data['trial_contrast']==100, test_data['trial_gain']==gain],axis = 0))\n",
    "    trialidx = np.isin(test_data['trial_resampled'],bl_trials)\n",
    "    Yhat = model.predict(test_data['spikecount'][trialidx,:])\n",
    "    err=mean_absolute_error(Yhat,test_data['posx_bin'][trialidx])\n",
    "    print(err)\n",
    "    err = Yhat-test_data['posx_bin'][trialidx]\n",
    "    print(err.mean())\n",
    "    "
   ]
  },
  {
   "cell_type": "code",
   "execution_count": 67,
   "metadata": {},
   "outputs": [],
   "source": [
    "bl_trials = np.nonzero(np.all([test_data['trial_contrast']==100, test_data['trial_gain']==0.5],axis = 0))\n",
    "trialidx = np.isin(test_data['trial_resampled'],bl_trials)\n",
    "Yhat = model.predict(test_data['spikecount'][trialidx,:])\n",
    "conf_matrix=confusion_matrix(test_data['posx_bin'][trialidx],Yhat)"
   ]
  },
  {
   "cell_type": "code",
   "execution_count": 56,
   "metadata": {},
   "outputs": [
    {
     "data": {
      "text/plain": [
       "(82, 82)"
      ]
     },
     "execution_count": 56,
     "metadata": {},
     "output_type": "execute_result"
    }
   ],
   "source": [
    "conf_matrix.shape"
   ]
  },
  {
   "cell_type": "code",
   "execution_count": 68,
   "metadata": {},
   "outputs": [
    {
     "data": {
      "image/png": "[encoded data removed]",
      "text/plain": [
       "<Figure size 720x504 with 2 Axes>"
      ]
     },
     "metadata": {},
     "output_type": "display_data"
    }
   ],
   "source": [
    "import seaborn as sn\n",
    "import pandas as pd\n",
    "import matplotlib.pyplot as plt\n",
    "from matplotlib.colors import LogNorm\n",
    "     \n",
    "df_cm = pd.DataFrame((conf_matrix), range(82),\n",
    "                  range(82))\n",
    "plt.figure(figsize = (10,7))\n",
    "sn.set(font_scale=1.4)#for label size\n",
    "sn.heatmap(df_cm, annot=False,annot_kws={\"size\": 3},vmax=10)# font size\n",
    "plt.savefig('C:/temp/out_error_cm1.png')"
   ]
  },
  {
   "cell_type": "code",
   "execution_count": 35,
   "metadata": {
    "scrolled": true
   },
   "outputs": [
    {
     "data": {
      "image/png": "[encoded data removed]",
      "text/plain": [
       "<Figure size 288x288 with 1 Axes>"
      ]
     },
     "metadata": {},
     "output_type": "display_data"
    }
   ],
   "source": [
    "plt.matshow(array)\n",
    "plt.savefig('C:/temp/out_error_cm3.pdf')"
   ]
  },
  {
   "cell_type": "code",
   "execution_count": 77,
   "metadata": {},
   "outputs": [],
   "source": [
    "def eval_and_train(dataset):\n",
    "    bl_trials = np.nonzero(np.all([dataset['trial_contrast']==100, dataset['trial_gain']==1],axis = 0))\n",
    "    trialidx = np.isin(dataset['trial_resampled'],bl_trials)\n",
    "    scoring = {'prec_macro': 'precision_macro','mae_macro': make_scorer(mean_absolute_error)}\n",
    "    model = linear_model.LogisticRegression(random_state=0, solver='lbfgs', multi_class='multinomial', max_iter=10000, C = 0.1)\n",
    "    #scores = cross_val_score(model, , cv=5)\n",
    "    scores = cross_validate(model,dataset['spikecount'][trialidx,:],dataset['posx_bin'][trialidx],scoring=scoring, cv=5,return_estimator=True)\n",
    "    \n",
    "    model = linear_model.LogisticRegression(random_state=0, solver='lbfgs', multi_class='multinomial', max_iter=10000, C = 0.1)\n",
    "    model.fit(dataset['spikecount'][trialidx,:],dataset['posx_bin'][trialidx])\n",
    "    return model,scores"
   ]
  },
  {
   "cell_type": "code",
   "execution_count": 82,
   "metadata": {},
   "outputs": [],
   "source": [
    "def score_baseline_model(model,test_data):\n",
    "    ma_errors = []\n",
    "    m_errors = []\n",
    "    precision = []\n",
    "    confusion_matrix = []\n",
    "    for gain in [1, 0.8, 0.7, 0.6, 0.5]:\n",
    "        \n",
    "\n",
    "        bl_trials = np.nonzero(np.all([test_data['trial_contrast']==gain, test_data['trial_gain']==1],axis = 0))\n",
    "        trialidx = np.isin(test_data['trial_resampled'],bl_trials)\n",
    "        if trialidx.sum()>0:\n",
    "            #print(model.score(test_data['spikecount'][trialidx,:],test_data['posx_bin'][trialidx]))\n",
    "            Yhat = model.predict(test_data['spikecount'][trialidx,:])\n",
    "            ma_errors.append(mean_absolute_error(Yhat,test_data['posx_bin'][trialidx]))\n",
    "            precision.append(model.score(test_data['spikecount'][trialidx,:],test_data['posx_bin'][trialidx]))\n",
    "            err = Yhat-test_data['posx_bin'][trialidx]\n",
    "            m_errors.append(err.mean())\n",
    "            c_matrix=confusion_matrix(test_data['posx_bin'][trialidx],Yhat)\n",
    "            confusion_matrix.append(c_matrix)\n",
    "        else: \n",
    "            ma_errors.append(np.nan)\n",
    "            m_errors.append(np.nan)\n",
    "            precision.append(np.nan)\n",
    "            confusion_matrix.append(np.nan)\n",
    "        \n",
    "        \n",
    "    return (ma_errors,m_errors,precision,confuxion_matrix)"
   ]
  },
  {
   "cell_type": "code",
   "execution_count": null,
   "metadata": {},
   "outputs": [
    {
     "name": "stderr",
     "output_type": "stream",
     "text": [
      "C:\\Users\\attialex\\AppData\\Local\\Continuum\\anaconda3\\envs\\panda3d\\lib\\site-packages\\sklearn\\metrics\\classification.py:1437: UndefinedMetricWarning: Precision is ill-defined and being set to 0.0 in labels with no predicted samples.\n",
      "  'precision', 'predicted', average, warn_for)\n",
      "C:\\Users\\attialex\\AppData\\Local\\Continuum\\anaconda3\\envs\\panda3d\\lib\\site-packages\\sklearn\\metrics\\classification.py:1437: UndefinedMetricWarning: Precision is ill-defined and being set to 0.0 in labels with no predicted samples.\n",
      "  'precision', 'predicted', average, warn_for)\n"
     ]
    }
   ],
   "source": [
    "files = glob.glob('Z:/giocomo/attialex/NP_DATA/np*_gain_*.mat')\n",
    "contrast_scores = []\n",
    "baseline_scores = []\n",
    "for iF in files[0:3]:\n",
    "    if not 'baseline' in iF:\n",
    "        dataset = lm.loadmat(iF)\n",
    "        dataset = preprocess(dataset)\n",
    "        (model, bl_scores) = eval_and_train(dataset)\n",
    "        tmp_scores = score_baseline_model(model,dataset)\n",
    "        gain_scores.append(tmp_scores)\n",
    "        baseline_scores.append(bl_scores)"
   ]
  }
 ],
 "metadata": {
  "kernelspec": {
   "display_name": "Python 3",
   "language": "python",
   "name": "python3"
  },
  "language_info": {
   "codemirror_mode": {
    "name": "ipython",
    "version": 3
   },
   "file_extension": ".py",
   "mimetype": "text/x-python",
   "name": "python",
   "nbconvert_exporter": "python",
   "pygments_lexer": "ipython3",
   "version": "3.7.2"
  }
 },
 "nbformat": 4,
 "nbformat_minor": 2
}
