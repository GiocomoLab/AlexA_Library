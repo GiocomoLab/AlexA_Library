{
 "cells": [
  {
   "cell_type": "code",
   "execution_count": 1,
   "metadata": {},
   "outputs": [],
   "source": [
    "import umap\n",
    "import numpy as np\n",
    "import matplotlib.pyplot as plt\n",
    "import os\n",
    "import scipy.stats \n",
    "from scipy.ndimage import gaussian_filter1d\n",
    "import glob\n",
    "import sys\n",
    "sys.path.append('./helpers')\n",
    "import loadmat as lm\n",
    "import helpers as helpers\n",
    "import pandas as pd\n",
    "from sklearn import linear_model\n",
    "%matplotlib widget\n",
    "from sklearn.decomposition import PCA"
   ]
  },
  {
   "cell_type": "code",
   "execution_count": 41,
   "metadata": {},
   "outputs": [],
   "source": [
    "def calcFR(data,good_cells=None,t_edges = None):\n",
    "    if good_cells is None:\n",
    "        good_cells = data['sp']['cids'][data['sp']['cgs']==2]\n",
    "    if t_edges is None:\n",
    "        dt= 0.2;\n",
    "        t_edges = np.arange(0,data['sp']['st'].max()+dt,dt)\n",
    "    else:\n",
    "        dt = np.mean(np.diff(t_edges))\n",
    "    # count spikes in each time bin for each cell\n",
    "    \n",
    "    spikecount = np.full((len(good_cells),len(t_edges)-1),np.nan)\n",
    "    \n",
    "    for cell_idx in range(len(good_cells)):   \n",
    "        spike_t = data['sp']['st'][data['sp']['clu']==good_cells[cell_idx]]\n",
    "        spikecount[cell_idx,:] = np.histogram(spike_t,bins=t_edges)[0]\n",
    "\n",
    "      \n",
    "    spikecount = np.hstack((spikecount,np.zeros((spikecount.shape[0],1))))  \n",
    "    spikerate = spikecount/dt\n",
    "    spikes = np.transpose(spikerate)\n",
    "    X = gaussian_filter1d(spikes, 2, axis=0)\n",
    "    return spikes,X,t_edges\n",
    "    "
   ]
  },
  {
   "cell_type": "code",
   "execution_count": 3,
   "metadata": {},
   "outputs": [],
   "source": [
    "data = lm.loadmat(r'/Users/attialex/npJ5_0506_dark_1.mat')"
   ]
  },
  {
   "cell_type": "code",
   "execution_count": 42,
   "metadata": {},
   "outputs": [],
   "source": [
    "spikes,X,t_edges = calcFR(data,t_edges = data['post'])"
   ]
  },
  {
   "cell_type": "code",
   "execution_count": 63,
   "metadata": {},
   "outputs": [],
   "source": [
    "speed = helpers.calcSpeed(data['posx'])"
   ]
  },
  {
   "cell_type": "code",
   "execution_count": 54,
   "metadata": {},
   "outputs": [
    {
     "name": "stderr",
     "output_type": "stream",
     "text": [
      "/Users/attialex/anaconda3/lib/python3.7/site-packages/ipykernel_launcher.py:1: RuntimeWarning: More than 20 figures have been opened. Figures created through the pyplot interface (`matplotlib.pyplot.figure`) are retained until explicitly closed and may consume too much memory. (To control this warning, see the rcParam `figure.max_open_warning`).\n",
      "  \"\"\"Entry point for launching an IPython kernel.\n"
     ]
    },
    {
     "data": {
      "application/vnd.jupyter.widget-view+json": {
       "model_id": "dace2e06bd224085a9ea0e72f0020b9c",
       "version_major": 2,
       "version_minor": 0
      },
      "text/plain": [
       "Canvas(toolbar=Toolbar(toolitems=[('Home', 'Reset original view', 'home', 'home'), ('Back', 'Back to previous …"
      ]
     },
     "metadata": {},
     "output_type": "display_data"
    }
   ],
   "source": [
    "plt.figure()\n",
    "plt.plot(speed[speed>2])\n"
   ]
  },
  {
   "cell_type": "code",
   "execution_count": 5,
   "metadata": {},
   "outputs": [],
   "source": [
    "data_xcorr = lm.loadmat(r'/Users/attialex/npJ5_0506_dark_1_out.mat')"
   ]
  },
  {
   "cell_type": "code",
   "execution_count": 6,
   "metadata": {},
   "outputs": [],
   "source": [
    "data_out=data_xcorr['data_out']"
   ]
  },
  {
   "cell_type": "code",
   "execution_count": 85,
   "metadata": {},
   "outputs": [
    {
     "data": {
      "application/vnd.jupyter.widget-view+json": {
       "model_id": "ba548f91d2d24317bc30e046478c5052",
       "version_major": 2,
       "version_minor": 0
      },
      "text/plain": [
       "Canvas(toolbar=Toolbar(toolitems=[('Home', 'Reset original view', 'home', 'home'), ('Back', 'Back to previous …"
      ]
     },
     "metadata": {},
     "output_type": "display_data"
    },
    {
     "data": {
      "text/plain": [
       "<matplotlib.collections.PathCollection at 0x7fac931b2b38>"
      ]
     },
     "execution_count": 85,
     "metadata": {},
     "output_type": "execute_result"
    }
   ],
   "source": [
    "plt.figure()\n",
    "plt.imshow(data_out['xcorrs'][data_out['pvals']<0.05,:])\n",
    "plt.scatter(data_out['peak_loc_all'][data_out['pvals']<0.05]/5,np.arange(np.sum(data_out['pvals']<0.05)),s=4,c='r')"
   ]
  },
  {
   "cell_type": "code",
   "execution_count": 116,
   "metadata": {},
   "outputs": [],
   "source": [
    "# idx = np.logical_and(np.logical_and(data_out['pvals']<0.05,data_out['peak_loc_all']>60*5),data_out['peak_loc_all']<70*5)\n",
    "idx = np.logical_and(np.logical_and(data_out['pvals']<0.05,data_out['peak_loc_all']>23*5),data_out['peak_loc_all']<41*5)\n",
    "idx = data_out['pvals']<0.05"
   ]
  },
  {
   "cell_type": "code",
   "execution_count": 118,
   "metadata": {},
   "outputs": [],
   "source": [
    "plt.close('all')"
   ]
  },
  {
   "cell_type": "code",
   "execution_count": 117,
   "metadata": {},
   "outputs": [
    {
     "data": {
      "application/vnd.jupyter.widget-view+json": {
       "model_id": "a6120238e6e84cb1b258c3ba84f09530",
       "version_major": 2,
       "version_minor": 0
      },
      "text/plain": [
       "Canvas(toolbar=Toolbar(toolitems=[('Home', 'Reset original view', 'home', 'home'), ('Back', 'Back to previous …"
      ]
     },
     "metadata": {},
     "output_type": "display_data"
    },
    {
     "data": {
      "text/plain": [
       "<matplotlib.image.AxesImage at 0x7fac92103898>"
      ]
     },
     "execution_count": 117,
     "metadata": {},
     "output_type": "execute_result"
    }
   ],
   "source": [
    "plt.figure()\n",
    "plt.imshow(data_out['xcorrs'][idx,:],aspect='auto')"
   ]
  },
  {
   "cell_type": "code",
   "execution_count": 119,
   "metadata": {},
   "outputs": [
    {
     "data": {
      "application/vnd.jupyter.widget-view+json": {
       "model_id": "b993506859b74d8d8037d417d51e426e",
       "version_major": 2,
       "version_minor": 0
      },
      "text/plain": [
       "Canvas(toolbar=Toolbar(toolitems=[('Home', 'Reset original view', 'home', 'home'), ('Back', 'Back to previous …"
      ]
     },
     "metadata": {},
     "output_type": "display_data"
    },
    {
     "data": {
      "text/plain": [
       "[<matplotlib.lines.Line2D at 0x7fac9d1ef2b0>]"
      ]
     },
     "execution_count": 119,
     "metadata": {},
     "output_type": "execute_result"
    }
   ],
   "source": [
    "X=gaussian_filter1d(spikes[speed>2,:], 15, axis=0)\n",
    "speed_ds = speed[speed>2]\n",
    "speed_ds = speed_ds[::10]\n",
    "X_z=scipy.stats.zscore(X[::10,idx],axis=1)\n",
    "pca = PCA(n_components=6)\n",
    "X_new=pca.fit_transform(X_z)\n",
    "plt.figure()\n",
    "plt.scatter(X_new[:,0],X_new[:,1],marker='.',s=4,c=speed_ds)\n",
    "plt.plot(X_new[2100:2200,0],X_new[2100:2200,1],'r')"
   ]
  },
  {
   "cell_type": "code",
   "execution_count": 120,
   "metadata": {},
   "outputs": [
    {
     "data": {
      "text/plain": [
       "(11688, 193)"
      ]
     },
     "execution_count": 120,
     "metadata": {},
     "output_type": "execute_result"
    }
   ],
   "source": [
    "X_z.shape"
   ]
  },
  {
   "cell_type": "code",
   "execution_count": 90,
   "metadata": {},
   "outputs": [
    {
     "data": {
      "application/vnd.jupyter.widget-view+json": {
       "model_id": "1826ab67fcaf4e639350616e89ca0694",
       "version_major": 2,
       "version_minor": 0
      },
      "text/plain": [
       "Canvas(toolbar=Toolbar(toolitems=[('Home', 'Reset original view', 'home', 'home'), ('Back', 'Back to previous …"
      ]
     },
     "metadata": {},
     "output_type": "display_data"
    },
    {
     "data": {
      "text/plain": [
       "[<matplotlib.lines.Line2D at 0x7fac91f1a5f8>]"
      ]
     },
     "execution_count": 90,
     "metadata": {},
     "output_type": "execute_result"
    }
   ],
   "source": [
    "X=gaussian_filter1d(spikes[speed>2,:], 15, axis=0)\n",
    "speed_ds = speed[speed>2]\n",
    "speed_ds = speed_ds[::10]\n",
    "X_z=scipy.stats.zscore(X[::10,idx],axis=1)\n",
    "pca = PCA(n_components=6)\n",
    "X_new=pca.fit_transform(X_z)\n",
    "plt.figure()\n",
    "plt.scatter(X_new[:,0],X_new[:,1],marker='.',s=4,c=speed_ds)\n",
    "plt.plot(X_new[2100:2200,0],X_new[2100:2200,1],'r')"
   ]
  },
  {
   "cell_type": "code",
   "execution_count": 72,
   "metadata": {},
   "outputs": [
    {
     "data": {
      "application/vnd.jupyter.widget-view+json": {
       "model_id": "b4e8f8b5d210414ba30f616ae3ed6d63",
       "version_major": 2,
       "version_minor": 0
      },
      "text/plain": [
       "Canvas(toolbar=Toolbar(toolitems=[('Home', 'Reset original view', 'home', 'home'), ('Back', 'Back to previous …"
      ]
     },
     "metadata": {},
     "output_type": "display_data"
    }
   ],
   "source": [
    "dx = np.diff(X_new[:,0])\n",
    "dy = np.diff(X_new[:,1])\n",
    "dx = dx[::100]\n",
    "dy = dy[::100]\n",
    "X=X_new[0:-1:100,0]\n",
    "Y=X_new[0:-1:100,1]\n",
    "fig, ax = plt.subplots()\n",
    "q = ax.quiver(X, Y, dx, dy)"
   ]
  },
  {
   "cell_type": "code",
   "execution_count": 84,
   "metadata": {},
   "outputs": [],
   "source": [
    "plt.close('all')"
   ]
  },
  {
   "cell_type": "code",
   "execution_count": 121,
   "metadata": {},
   "outputs": [],
   "source": [
    "# reducer = umap.UMAP(n_components=3,metric='cosine',n_neighbors=500,init='spectral',min_dist=0.8)\n",
    "#reducer = umap.UMAP(n_components=3,metric='cosine',init='spectral',min_dist=0.8)\n",
    "reducer = umap.UMAP(n_components=3,metric='cosine',min_dist = 1)\n",
    "Xu = reducer.fit_transform(X_new)"
   ]
  },
  {
   "cell_type": "code",
   "execution_count": 122,
   "metadata": {},
   "outputs": [
    {
     "data": {
      "application/vnd.jupyter.widget-view+json": {
       "model_id": "800f93efb76f48b4a71e4fc11f01dd87",
       "version_major": 2,
       "version_minor": 0
      },
      "text/plain": [
       "Canvas(toolbar=Toolbar(toolitems=[('Home', 'Reset original view', 'home', 'home'), ('Back', 'Back to previous …"
      ]
     },
     "metadata": {},
     "output_type": "display_data"
    },
    {
     "data": {
      "text/plain": [
       "[<matplotlib.lines.Line2D at 0x7fac92aa7e80>]"
      ]
     },
     "execution_count": 122,
     "metadata": {},
     "output_type": "execute_result"
    }
   ],
   "source": [
    "plt.figure()\n",
    "plt.scatter(Xu[:,0],Xu[:,1],marker='.',s=4,c=speed_ds)\n",
    "plt.plot(Xu[2800:3000,0],Xu[2800:3000,1],'r')"
   ]
  },
  {
   "cell_type": "code",
   "execution_count": 93,
   "metadata": {},
   "outputs": [
    {
     "data": {
      "application/vnd.jupyter.widget-view+json": {
       "model_id": "554e57e7423443b18bbc6237625b4193",
       "version_major": 2,
       "version_minor": 0
      },
      "text/plain": [
       "Canvas(toolbar=Toolbar(toolitems=[('Home', 'Reset original view', 'home', 'home'), ('Back', 'Back to previous …"
      ]
     },
     "metadata": {},
     "output_type": "display_data"
    },
    {
     "data": {
      "text/plain": [
       "[<matplotlib.lines.Line2D at 0x7fac9c527470>]"
      ]
     },
     "execution_count": 93,
     "metadata": {},
     "output_type": "execute_result"
    }
   ],
   "source": [
    "plt.figure()\n",
    "plt.scatter(Xu[:,0],Xu[:,1],marker='.',s=4,c=speed_ds)\n",
    "plt.plot(Xu[2800:3000,0],Xu[2800:3000,1],'r')"
   ]
  },
  {
   "cell_type": "code",
   "execution_count": 81,
   "metadata": {},
   "outputs": [
    {
     "name": "stderr",
     "output_type": "stream",
     "text": [
      "/Users/attialex/anaconda3/lib/python3.7/site-packages/ipykernel_launcher.py:7: RuntimeWarning: More than 20 figures have been opened. Figures created through the pyplot interface (`matplotlib.pyplot.figure`) are retained until explicitly closed and may consume too much memory. (To control this warning, see the rcParam `figure.max_open_warning`).\n",
      "  import sys\n"
     ]
    },
    {
     "data": {
      "application/vnd.jupyter.widget-view+json": {
       "model_id": "efb8166c2a6847789f5e5cc3dcb3ecfa",
       "version_major": 2,
       "version_minor": 0
      },
      "text/plain": [
       "Canvas(toolbar=Toolbar(toolitems=[('Home', 'Reset original view', 'home', 'home'), ('Back', 'Back to previous …"
      ]
     },
     "metadata": {},
     "output_type": "display_data"
    }
   ],
   "source": [
    "dx = np.diff(Xu[:,0])\n",
    "dy = np.diff(Xu[:,1])\n",
    "dx = dx[::10]\n",
    "dy = dy[::10]\n",
    "X=Xu[0:-1:10,0]\n",
    "Y=Xu[0:-1:10,1]\n",
    "fig, ax = plt.subplots()\n",
    "q = ax.quiver(X, Y, dx, dy)"
   ]
  },
  {
   "cell_type": "code",
   "execution_count": 108,
   "metadata": {},
   "outputs": [
    {
     "data": {
      "application/vnd.jupyter.widget-view+json": {
       "model_id": "662bc87f749e4feaacdc56da7f022cdd",
       "version_major": 2,
       "version_minor": 0
      },
      "text/plain": [
       "Canvas(toolbar=Toolbar(toolitems=[('Home', 'Reset original view', 'home', 'home'), ('Back', 'Back to previous …"
      ]
     },
     "metadata": {},
     "output_type": "display_data"
    },
    {
     "data": {
      "text/plain": [
       "<mpl_toolkits.mplot3d.art3d.Path3DCollection at 0x7fac92142dd8>"
      ]
     },
     "execution_count": 108,
     "metadata": {},
     "output_type": "execute_result"
    }
   ],
   "source": [
    "from mpl_toolkits.mplot3d import Axes3D\n",
    "fig = plt.figure()\n",
    "ax = fig.add_subplot(111, projection='3d')\n",
    "ax.scatter(Xu[:,0],Xu[:,1],Xu[:,2],marker='.',s=4)"
   ]
  },
  {
   "cell_type": "code",
   "execution_count": 58,
   "metadata": {},
   "outputs": [
    {
     "data": {
      "text/plain": [
       "'3.1.1'"
      ]
     },
     "execution_count": 58,
     "metadata": {},
     "output_type": "execute_result"
    }
   ],
   "source": [
    "import matplotlib;matplotlib.__version__"
   ]
  }
 ],
 "metadata": {
  "kernelspec": {
   "display_name": "Python 3",
   "language": "python",
   "name": "python3"
  },
  "language_info": {
   "codemirror_mode": {
    "name": "ipython",
    "version": 3
   },
   "file_extension": ".py",
   "mimetype": "text/x-python",
   "name": "python",
   "nbconvert_exporter": "python",
   "pygments_lexer": "ipython3",
   "version": "3.7.2"
  }
 },
 "nbformat": 4,
 "nbformat_minor": 4
}
