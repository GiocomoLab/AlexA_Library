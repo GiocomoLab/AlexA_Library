{
 "cells": [
  {
   "cell_type": "code",
   "execution_count": 1,
   "metadata": {},
   "outputs": [],
   "source": [
    "import matplotlib.pyplot as plt\n",
    "import numpy as np\n",
    "%matplotlib inline\n",
    "import scipy.io as sio\n",
    "import sys\n",
    "sys.path.append('./helpers')\n",
    "import loadmat as lm\n",
    "from sklearn import linear_model\n",
    "from scipy import signal\n",
    "from sklearn.model_selection import cross_val_score, cross_validate\n",
    "import os\n",
    "from sklearn.metrics import make_scorer, confusion_matrix\n",
    "import glob\n",
    "from sklearn.metrics import mean_absolute_error\n",
    "import seaborn as sns\n",
    "from helpers import preprocess"
   ]
  },
  {
   "cell_type": "code",
   "execution_count": 2,
   "metadata": {},
   "outputs": [],
   "source": [
    "files = glob.glob('Z:/giocomo/attialex/NP_DATA/*_gain_*.mat')\n",
    "dataset = lm.loadmat(files[1])\n",
    "dataset_p = preprocess(dataset,5)\n"
   ]
  },
  {
   "cell_type": "code",
   "execution_count": 4,
   "metadata": {},
   "outputs": [
    {
     "data": {
      "text/plain": [
       "LinearRegression(copy_X=True, fit_intercept=True, n_jobs=None, normalize=False)"
      ]
     },
     "execution_count": 4,
     "metadata": {},
     "output_type": "execute_result"
    }
   ],
   "source": [
    "#dataset_p = preprocess(dataset,5)\n",
    "bl_trials = np.nonzero(np.all([dataset_p['trial_contrast']==100, dataset_p['trial_gain']==1],axis = 0))\n",
    "trialidx = np.isin(dataset_p['trial_resampled'],bl_trials)\n",
    "model = linear_model.LinearRegression()\n",
    "model.fit(dataset_p['spikecount'][trialidx,:],dataset_p['posx_resampled'][trialidx])\n"
   ]
  },
  {
   "cell_type": "code",
   "execution_count": 17,
   "metadata": {},
   "outputs": [
    {
     "data": {
      "text/plain": [
       "'Z:/giocomo/attialex/NP_DATA\\\\AA1_190729_gain_1.mat'"
      ]
     },
     "execution_count": 17,
     "metadata": {},
     "output_type": "execute_result"
    }
   ],
   "source": [
    "files[1]"
   ]
  },
  {
   "cell_type": "code",
   "execution_count": 7,
   "metadata": {},
   "outputs": [],
   "source": [
    "def score_baseline_model(model,test_data):\n",
    "    ma_errors = []\n",
    "    m_errors = []\n",
    "    precision = []\n",
    "    conf_matrix = []\n",
    "    for gain in [1, 0.8, 0.7, 0.6, 0.5]:\n",
    "        \n",
    "\n",
    "        bl_trials = np.nonzero(np.all([test_data['trial_contrast']==100, test_data['trial_gain']==gain],axis = 0))\n",
    "        trialidx = np.in1d(test_data['trial_resampled'],bl_trials)\n",
    "        if trialidx.sum()>0:\n",
    "            #print(model.score(test_data['spikecount'][trialidx,:],test_data['posx_bin'][trialidx]))\n",
    "            Yhat = model.predict(test_data['spikecount'][trialidx,:])\n",
    "            ma_errors.append(mean_absolute_error(Yhat,test_data['posx_resampled'][trialidx]))\n",
    "            precision.append(model.score(test_data['spikecount'][trialidx,:],test_data['posx_resampled'][trialidx]))\n",
    "            err = Yhat-test_data['posx_resampled'][trialidx]\n",
    "            m_errors.append(err.mean())\n",
    "            #c_matrix=confusion_matrix(test_data['posx_bin'][trialidx],Yhat)\n",
    "            #conf_matrix.append(c_matrix)\n",
    "        else: \n",
    "            ma_errors.append(np.nan)\n",
    "            m_errors.append(np.nan)\n",
    "            precision.append(np.nan)\n",
    "            #conf_matrix.append(np.nan)\n",
    "        \n",
    "        \n",
    "    return (ma_errors,m_errors,precision)"
   ]
  },
  {
   "cell_type": "code",
   "execution_count": null,
   "metadata": {},
   "outputs": [],
   "source": []
  },
  {
   "cell_type": "code",
   "execution_count": 15,
   "metadata": {},
   "outputs": [],
   "source": [
    "bl_trials = np.nonzero(np.all([dataset_p['trial_contrast']==100, dataset_p['trial_gain']==0.8],axis = 0))\n",
    "trialidx = np.isin(dataset_p['trial_resampled'],bl_trials)"
   ]
  },
  {
   "cell_type": "code",
   "execution_count": 41,
   "metadata": {},
   "outputs": [
    {
     "name": "stderr",
     "output_type": "stream",
     "text": [
      "C:\\Users\\attialex\\AppData\\Local\\Continuum\\anaconda3\\envs\\panda3d\\lib\\site-packages\\ipykernel_launcher.py:1: FutureWarning: elementwise comparison failed; returning scalar instead, but in the future will perform elementwise comparison\n",
      "  \"\"\"Entry point for launching an IPython kernel.\n"
     ]
    },
    {
     "data": {
      "text/plain": [
       "94"
      ]
     },
     "execution_count": 41,
     "metadata": {},
     "output_type": "execute_result"
    }
   ],
   "source": [
    "idx = anatomy['cluster_parent']=='VISp'\n",
    "dataset_p['spikecount'].shape\n",
    "idxG=idx[dataset_p['sp']['cgs']==2]\n",
    "vis_cells = dataset_p['spikecount'][:,idxG]\n",
    "idxG.sum()"
   ]
  },
  {
   "cell_type": "code",
   "execution_count": 50,
   "metadata": {},
   "outputs": [
    {
     "name": "stderr",
     "output_type": "stream",
     "text": [
      "C:\\Users\\attialex\\AppData\\Local\\Continuum\\anaconda3\\envs\\panda3d\\lib\\site-packages\\ipykernel_launcher.py:3: FutureWarning: elementwise comparison failed; returning scalar instead, but in the future will perform elementwise comparison\n",
      "  This is separate from the ipykernel package so we can avoid doing imports until\n"
     ]
    }
   ],
   "source": [
    "region = 'RSP'\n",
    "group = anatomy['cluster_parent']\n",
    "idx = [region in ss for ss in group]\n",
    "idx = np.array(idx)\n",
    "idx = idx[dataset['sp']['cgs']==2]\n"
   ]
  }
 ],
 "metadata": {
  "kernelspec": {
   "display_name": "Python 3",
   "language": "python",
   "name": "python3"
  },
  "language_info": {
   "codemirror_mode": {
    "name": "ipython",
    "version": 3
   },
   "file_extension": ".py",
   "mimetype": "text/x-python",
   "name": "python",
   "nbconvert_exporter": "python",
   "pygments_lexer": "ipython3",
   "version": "3.7.2"
  }
 },
 "nbformat": 4,
 "nbformat_minor": 2
}
