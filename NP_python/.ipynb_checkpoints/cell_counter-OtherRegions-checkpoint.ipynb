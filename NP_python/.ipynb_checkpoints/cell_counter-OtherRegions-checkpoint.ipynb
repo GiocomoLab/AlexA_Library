{
 "cells": [
  {
   "cell_type": "code",
   "execution_count": 1,
   "metadata": {},
   "outputs": [],
   "source": [
    "import sys\n",
    "sys.path.append('./helpers')\n",
    "import loadmat as lm\n",
    "import glob\n",
    "import os\n",
    "from collections import Counter\n",
    "import numpy as np\n",
    "import seaborn as sn\n",
    "import pandas as pd"
   ]
  },
  {
   "cell_type": "code",
   "execution_count": 2,
   "metadata": {},
   "outputs": [
    {
     "data": {
      "text/plain": [
       "1"
      ]
     },
     "execution_count": 2,
     "metadata": {},
     "output_type": "execute_result"
    }
   ],
   "source": [
    "1"
   ]
  },
  {
   "cell_type": "code",
   "execution_count": 3,
   "metadata": {},
   "outputs": [],
   "source": [
    "files = glob.glob('F:/NP_DATA/*.mat')"
   ]
  },
  {
   "cell_type": "code",
   "execution_count": 4,
   "metadata": {},
   "outputs": [],
   "source": [
    "fn = os.path.basename(files[1])\n",
    "animal=fn.split('_')[0]\n",
    "date = fn.split('_')[1]\n",
    "\n",
    "pp=dict();\n",
    "validNames = [];\n",
    "for cntr in range(len(files)):\n",
    "    current_file = files[cntr]\n",
    "    fn = os.path.basename(current_file)\n",
    "    animal=fn.split('_')[0]\n",
    "    date = fn.split('_')[1]\n",
    "    if animal in pp:\n",
    "        datelist = pp[animal]\n",
    "        \n",
    "        if date in datelist:\n",
    "            None\n",
    "        else:\n",
    "            pp[animal].append(date)\n",
    "            validNames.append(current_file)\n",
    "    else:\n",
    "        pp[animal]=[];\n",
    "        pp[animal].append(date)\n",
    "        validNames.append(current_file)"
   ]
  },
  {
   "cell_type": "code",
   "execution_count": 5,
   "metadata": {},
   "outputs": [
    {
     "data": {
      "text/plain": [
       "350"
      ]
     },
     "execution_count": 5,
     "metadata": {},
     "output_type": "execute_result"
    }
   ],
   "source": [
    "len(files)"
   ]
  },
  {
   "cell_type": "code",
   "execution_count": 6,
   "metadata": {},
   "outputs": [
    {
     "data": {
      "text/plain": [
       "True"
      ]
     },
     "execution_count": 6,
     "metadata": {},
     "output_type": "execute_result"
    }
   ],
   "source": [
    "li = pp['AA1']\n",
    "'190726' in li"
   ]
  },
  {
   "cell_type": "code",
   "execution_count": 7,
   "metadata": {},
   "outputs": [
    {
     "data": {
      "text/plain": [
       "['F:/NP_DATA\\\\AA1_190726_gain_1.mat',\n",
       " 'F:/NP_DATA\\\\AA1_190727_contrast_1.mat',\n",
       " 'F:/NP_DATA\\\\AA1_190728_gaincontrast10_1.mat',\n",
       " 'F:/NP_DATA\\\\AA1_190729_gain_1.mat',\n",
       " 'F:/NP_DATA\\\\AA1_190730_gaincontrast10_1.mat',\n",
       " 'F:/NP_DATA\\\\AA2_190807_gain_1.mat',\n",
       " 'F:/NP_DATA\\\\AA2_190808_gaincontrast10_1.mat',\n",
       " 'F:/NP_DATA\\\\AA2_190809_gaincontrast10_2.mat',\n",
       " 'F:/NP_DATA\\\\AA2_190810_contrast_1.mat',\n",
       " 'F:/NP_DATA\\\\AA2_190811_dark_1.mat',\n",
       " 'F:/NP_DATA\\\\AA2_190812_gain_1.mat',\n",
       " 'F:/NP_DATA\\\\AA3_190801_gain_3.mat',\n",
       " 'F:/NP_DATA\\\\AA3_190802_contrast_1.mat',\n",
       " 'F:/NP_DATA\\\\AA3_190804_gain_1.mat',\n",
       " 'F:/NP_DATA\\\\AA3_190805_gaincontrast10_1.mat',\n",
       " 'F:/NP_DATA\\\\AA44_190924_gaincontrast10_1.mat',\n",
       " 'F:/NP_DATA\\\\AA44_190925_gain_1.mat',\n",
       " 'F:/NP_DATA\\\\AA44_190926_gain_1.mat',\n",
       " 'F:/NP_DATA\\\\AA44_190927_gaincontrast10_1.mat',\n",
       " 'F:/NP_DATA\\\\AA45_190924_gain_1.mat',\n",
       " 'F:/NP_DATA\\\\AA45_190925_gaincontrast10_1.mat',\n",
       " 'F:/NP_DATA\\\\AA46_190917_gain_1.mat',\n",
       " 'F:/NP_DATA\\\\AA46_190918_gaincontrast10_1.mat',\n",
       " 'F:/NP_DATA\\\\AA46_190919_gain_1.mat',\n",
       " 'F:/NP_DATA\\\\AA46_190920_gaincontrast10_1.mat',\n",
       " 'F:/NP_DATA\\\\AA46_190921_gaincontrast10_combined.mat',\n",
       " 'F:/NP_DATA\\\\AA47_190924_gain_1.mat',\n",
       " 'F:/NP_DATA\\\\AA47_190925_gaincontrast10_1.mat',\n",
       " 'F:/NP_DATA\\\\AA47_190926_gain_1.mat',\n",
       " 'F:/NP_DATA\\\\AA47_190927_gaincontrast10_1.mat',\n",
       " 'F:/NP_DATA\\\\AA48_190921_gaincontrast10_1.mat',\n",
       " 'F:/NP_DATA\\\\AA49_190930_gaincontrast10_1.mat',\n",
       " 'F:/NP_DATA\\\\AA4_190801_gain_1.mat',\n",
       " 'F:/NP_DATA\\\\AA4_190802_gaincontrast10_1.mat',\n",
       " 'F:/NP_DATA\\\\AA4_190803_contrast_1.mat',\n",
       " 'F:/NP_DATA\\\\AA4_190804_gain_2.mat',\n",
       " 'F:/NP_DATA\\\\AA4_190805_gaincontrast10_2.mat',\n",
       " 'F:/NP_DATA\\\\AA4_190806_gain_1.mat',\n",
       " 'F:/NP_DATA\\\\AA50_190930_gaincontrast10_1.mat',\n",
       " 'F:/NP_DATA\\\\AA50_191001_gain_1.mat',\n",
       " 'F:/NP_DATA\\\\AA50_191002_gain_1.mat',\n",
       " 'F:/NP_DATA\\\\AA50_191003_gain_1.mat',\n",
       " 'F:/NP_DATA\\\\AA50_191004_gaincontrast10_1.mat',\n",
       " 'F:/NP_DATA\\\\AA5_190807_gain_1.mat',\n",
       " 'F:/NP_DATA\\\\AA5_190808_gaincontrast10_1.mat',\n",
       " 'F:/NP_DATA\\\\AA5_190809_gain_1.mat',\n",
       " 'F:/NP_DATA\\\\AA5_190810_gaincontrast_1.mat',\n",
       " 'F:/NP_DATA\\\\AA5_190811_dark_1.mat',\n",
       " 'F:/NP_DATA\\\\AA5_190812_gaincontrast10_1.mat',\n",
       " 'F:/NP_DATA\\\\MERGED_FIRSTSESSIONS_AA.mat',\n",
       " 'F:/NP_DATA\\\\npF2_1015_contrasttrack_gainchanges_2.mat',\n",
       " 'F:/NP_DATA\\\\npF2_1016_contrasttrack_gainchanges_1.mat',\n",
       " 'F:/NP_DATA\\\\npF3_1018_contrasttrack_gainchanges_1.mat',\n",
       " 'F:/NP_DATA\\\\npF3_1019_contrasttrack_gainchanges_contrast_1.mat',\n",
       " 'F:/NP_DATA\\\\npF4_1023_gaincontrast_1.mat',\n",
       " 'F:/NP_DATA\\\\npF4_1025_gaincontrast_2.mat',\n",
       " 'F:/NP_DATA\\\\npG1_1218_gaincontrast_2.mat',\n",
       " 'F:/NP_DATA\\\\npG1_1219_gain_1.mat',\n",
       " 'F:/NP_DATA\\\\npG2_1211_gain_1.mat',\n",
       " 'F:/NP_DATA\\\\npG2_1212_gaincontrast_1.mat',\n",
       " 'F:/NP_DATA\\\\npG2_1213_gain_1.mat',\n",
       " 'F:/NP_DATA\\\\npG2_1214_gaincontrast_1.mat',\n",
       " 'F:/NP_DATA\\\\npG4_1203_gain_2.mat',\n",
       " 'F:/NP_DATA\\\\npG4_1204_gaincontrast_2.mat',\n",
       " 'F:/NP_DATA\\\\npG5_1206_gaincontrast_1.mat',\n",
       " 'F:/NP_DATA\\\\npG5_1207_gain_1.mat',\n",
       " 'F:/NP_DATA\\\\npG5_1210_gaincontrast_2.mat',\n",
       " 'F:/NP_DATA\\\\npH1_0311_contrasttrack_2.mat',\n",
       " 'F:/NP_DATA\\\\npH1_0312_contrast_1.mat',\n",
       " 'F:/NP_DATA\\\\npH1_0313_contrast_2.mat',\n",
       " 'F:/NP_DATA\\\\npH1_0314_baseline_1.mat',\n",
       " 'F:/NP_DATA\\\\npH3_0325_dark_1.mat',\n",
       " 'F:/NP_DATA\\\\npH3_0329_baseline_2.mat',\n",
       " 'F:/NP_DATA\\\\npH3_0330_contrast_2.mat',\n",
       " 'F:/NP_DATA\\\\npH3_0401_dark_3.mat',\n",
       " 'F:/NP_DATA\\\\npH3_0402_dark_1.mat',\n",
       " 'F:/NP_DATA\\\\npH3_0403_dark_1.mat',\n",
       " 'F:/NP_DATA\\\\npH3_0404_baseline_8.mat',\n",
       " 'F:/NP_DATA\\\\npH4_0317_baseline_1.mat',\n",
       " 'F:/NP_DATA\\\\npH4_0318_baseline_with_gain_1_KS2.mat',\n",
       " 'F:/NP_DATA\\\\npH4_0319_contrast_2.mat',\n",
       " 'F:/NP_DATA\\\\npH4_0320_baseline_1.mat',\n",
       " 'F:/NP_DATA\\\\npH5_0323_baseline_1.mat',\n",
       " 'F:/NP_DATA\\\\npH5_0324_contrast_1.mat',\n",
       " 'F:/NP_DATA\\\\npH5_0325_dark_1.mat',\n",
       " 'F:/NP_DATA\\\\npH5_0326_baseline_1.mat',\n",
       " 'F:/NP_DATA\\\\npH5_0327_baseline_1.mat',\n",
       " 'F:/NP_DATA\\\\npH5_0328_gaincontrast_1.mat',\n",
       " 'F:/NP_DATA\\\\npI1_0413_baseline_2.mat',\n",
       " 'F:/NP_DATA\\\\npI1_0414_contrast_2.mat',\n",
       " 'F:/NP_DATA\\\\npI1_0415_baseline_1.mat',\n",
       " 'F:/NP_DATA\\\\npI1_0416_baseline_1.mat',\n",
       " 'F:/NP_DATA\\\\npI1_0417_baseline_1.mat',\n",
       " 'F:/NP_DATA\\\\npI1_0418_dark_1.mat',\n",
       " 'F:/NP_DATA\\\\npI3_0420_baseline_gain_1.mat',\n",
       " 'F:/NP_DATA\\\\npI3_0421_contrast_1.mat',\n",
       " 'F:/NP_DATA\\\\npI3_0422_dark_1.mat',\n",
       " 'F:/NP_DATA\\\\npI3_0424_baseline_1.mat',\n",
       " 'F:/NP_DATA\\\\npI3_0425_baseline_1.mat',\n",
       " 'F:/NP_DATA\\\\npI4_0420_baseline_2.mat',\n",
       " 'F:/NP_DATA\\\\npI4_0421_baseline_1.mat',\n",
       " 'F:/NP_DATA\\\\npI4_0422_baseline_1.mat',\n",
       " 'F:/NP_DATA\\\\npI4_0423_baseline_1.mat',\n",
       " 'F:/NP_DATA\\\\npI4_0424_baseline_2.mat',\n",
       " 'F:/NP_DATA\\\\npI4_0425_baseline_1.mat',\n",
       " 'F:/NP_DATA\\\\npI5_0413_baseline_1.mat',\n",
       " 'F:/NP_DATA\\\\npI5_0414_contrast_1.mat',\n",
       " 'F:/NP_DATA\\\\npI5_0415_baseline_1.mat',\n",
       " 'F:/NP_DATA\\\\npI5_0416_baseline_1.mat',\n",
       " 'F:/NP_DATA\\\\npI5_0417_baseline_1.mat',\n",
       " 'F:/NP_DATA\\\\npI5_0418_baseline_1.mat',\n",
       " 'F:/NP_DATA\\\\npJ1_0520_baseline_2.mat',\n",
       " 'F:/NP_DATA\\\\npJ1_0521_baseline_1.mat',\n",
       " 'F:/NP_DATA\\\\npJ1_0522_dark_1.mat',\n",
       " 'F:/NP_DATA\\\\npJ1_0523_baseline_2.mat',\n",
       " 'F:/NP_DATA\\\\npJ1_0524_dark_1.mat',\n",
       " 'F:/NP_DATA\\\\npJ1_0525_dark_1.mat',\n",
       " 'F:/NP_DATA\\\\npJ2_0511_baseline_gain_1.mat',\n",
       " 'F:/NP_DATA\\\\npJ2_0512_contrast_1.mat',\n",
       " 'F:/NP_DATA\\\\npJ2_0513_dark_1.mat',\n",
       " 'F:/NP_DATA\\\\npJ2_0514_dark_1.mat',\n",
       " 'F:/NP_DATA\\\\npJ2_0515_dark_1.mat',\n",
       " 'F:/NP_DATA\\\\npJ2_0516_baseline_1.mat',\n",
       " 'F:/NP_DATA\\\\npJ3_0504_baseline_gain_1.mat',\n",
       " 'F:/NP_DATA\\\\npJ3_0505_dark_1.mat',\n",
       " 'F:/NP_DATA\\\\npJ3_0506_contrast_1.mat',\n",
       " 'F:/NP_DATA\\\\npJ3_0507_dark_2.mat',\n",
       " 'F:/NP_DATA\\\\npJ3_0508_dark_1.mat',\n",
       " 'F:/NP_DATA\\\\npJ3_0509_dark_1.mat',\n",
       " 'F:/NP_DATA\\\\npJ3_0510_baseline_playback_1.mat',\n",
       " 'F:/NP_DATA\\\\npJ4_0511_baseline_gain_1.mat',\n",
       " 'F:/NP_DATA\\\\npJ4_0512_baseline_1.mat',\n",
       " 'F:/NP_DATA\\\\npJ4_0513_baseline_1.mat',\n",
       " 'F:/NP_DATA\\\\npJ4_0514_baseline_1.mat',\n",
       " 'F:/NP_DATA\\\\npJ4_0515_dark_1.mat',\n",
       " 'F:/NP_DATA\\\\npJ4_0516_baseline_1.mat',\n",
       " 'F:/NP_DATA\\\\npJ5_0504_baseline_gain_3.mat',\n",
       " 'F:/NP_DATA\\\\npJ5_0505_baseline_1.mat',\n",
       " 'F:/NP_DATA\\\\npJ5_0506_dark_1.mat',\n",
       " 'F:/NP_DATA\\\\npJ5_0507_baseline_1.mat',\n",
       " 'F:/NP_DATA\\\\npJ5_0508_baseline_playback_1.mat',\n",
       " 'F:/NP_DATA\\\\TW_MERGED_FIRSTSESSIONS_GOOD.mat']"
      ]
     },
     "execution_count": 7,
     "metadata": {},
     "output_type": "execute_result"
    }
   ],
   "source": [
    "validNames"
   ]
  },
  {
   "cell_type": "code",
   "execution_count": 8,
   "metadata": {},
   "outputs": [
    {
     "name": "stderr",
     "output_type": "stream",
     "text": [
      "C:\\Users\\attialex\\AppData\\Local\\Continuum\\anaconda3\\envs\\suite2p\\lib\\site-packages\\numpy\\core\\_methods.py:153: RuntimeWarning: invalid value encountered in reduce\n",
      "  umr_maximum(a, axis, None, out, keepdims),\n",
      "C:\\Users\\attialex\\AppData\\Local\\Continuum\\anaconda3\\envs\\suite2p\\lib\\site-packages\\numpy\\core\\_methods.py:154: RuntimeWarning: invalid value encountered in reduce\n",
      "  umr_minimum(a, axis, None, None, keepdims),\n"
     ]
    },
    {
     "name": "stdout",
     "output_type": "stream",
     "text": [
      "F:/NP_DATA\\AA1_190728_gaincontrast10_1.mat\n"
     ]
    }
   ],
   "source": [
    "region_numbers = Counter()\n",
    "raw_numbers = []\n",
    "distance = [];\n",
    "parent_winner = [];\n",
    "\n",
    "for iF in validNames:\n",
    "    try:\n",
    "        dataset = lm.loadmat(iF)\n",
    "        #print(iF)\n",
    "        if 'anatomy' in dataset:\n",
    "            anatomy = dataset['anatomy']\n",
    "        else:\n",
    "            continue\n",
    "\n",
    "        if 'parent_shifted' in anatomy:\n",
    "            parent = anatomy['parent_shifted']\n",
    "        else:\n",
    "            parent = anatomy['cluster_parent']\n",
    "        \n",
    "        idx = dataset['sp']['cgs']==2\n",
    "        dd=anatomy['tip_distance'][idx]\n",
    "        \n",
    "        \n",
    "        raw_numbers.append((np.sum(idx),np.ptp(dd)))\n",
    "        parent = parent[idx]\n",
    "        parent = [pa if len(pa) else 'Null' for pa in parent]\n",
    "        \n",
    "        region_numbers.update(parent)\n",
    "        parent_winner.append(Counter(parent).most_common(1)[0][0])\n",
    "    except:\n",
    "        print(iF)\n",
    "        \n",
    "    "
   ]
  },
  {
   "cell_type": "code",
   "execution_count": 9,
   "metadata": {},
   "outputs": [
    {
     "name": "stderr",
     "output_type": "stream",
     "text": [
      "C:\\Users\\attialex\\AppData\\Local\\Continuum\\anaconda3\\envs\\suite2p\\lib\\site-packages\\ipykernel_launcher.py:3: FutureWarning: `Series.plot()` should not be called with positional arguments, only keyword arguments. The order of positional arguments will change in the future. Use `Series.plot(kind='barh')` instead of `Series.plot('barh',)`.\n",
      "  This is separate from the ipykernel package so we can avoid doing imports until\n"
     ]
    },
    {
     "data": {
      "text/plain": [
       "<matplotlib.axes._subplots.AxesSubplot at 0x163297753c8>"
      ]
     },
     "execution_count": 9,
     "metadata": {},
     "output_type": "execute_result"
    },
    {
     "data": {
      "image/png": "[encoded data removed]",
      "text/plain": [
       "<Figure size 432x288 with 1 Axes>"
      ]
     },
     "metadata": {
      "needs_background": "light"
     },
     "output_type": "display_data"
    }
   ],
   "source": [
    "ff=pd.Series(region_numbers.elements())\n",
    "\n",
    "ff.value_counts()[:5].plot('barh')"
   ]
  },
  {
   "cell_type": "code",
   "execution_count": 10,
   "metadata": {},
   "outputs": [
    {
     "name": "stderr",
     "output_type": "stream",
     "text": [
      "C:\\Users\\attialex\\AppData\\Local\\Continuum\\anaconda3\\envs\\suite2p\\lib\\site-packages\\ipykernel_launcher.py:4: FutureWarning: `Series.plot()` should not be called with positional arguments, only keyword arguments. The order of positional arguments will change in the future. Use `Series.plot(kind='barh')` instead of `Series.plot('barh',)`.\n",
      "  after removing the cwd from sys.path.\n"
     ]
    },
    {
     "data": {
      "image/png": "[encoded data removed]",
      "text/plain": [
       "<Figure size 432x288 with 1 Axes>"
      ]
     },
     "metadata": {
      "needs_background": "light"
     },
     "output_type": "display_data"
    }
   ],
   "source": [
    "gg=region_numbers.elements()\n",
    "gg=['RSP' if el.startswith('RS') else el for el in gg]\n",
    "ff=pd.Series(gg)\n",
    "ax=ff.value_counts()[:5].plot('barh')\n",
    "fig = ax.get_figure()\n",
    "fig.savefig(r'C:\\temp\\region_hist.pdf')"
   ]
  },
  {
   "cell_type": "code",
   "execution_count": 11,
   "metadata": {},
   "outputs": [
    {
     "data": {
      "text/plain": [
       "1917"
      ]
     },
     "execution_count": 11,
     "metadata": {},
     "output_type": "execute_result"
    }
   ],
   "source": [
    "idx = 0\n",
    "for ii in gg:\n",
    "    if ii=='RSP':\n",
    "        idx = idx+1\n",
    "idx"
   ]
  },
  {
   "cell_type": "code",
   "execution_count": 12,
   "metadata": {},
   "outputs": [
    {
     "data": {
      "text/plain": [
       "<matplotlib.axes._subplots.AxesSubplot at 0x163002eb080>"
      ]
     },
     "execution_count": 12,
     "metadata": {},
     "output_type": "execute_result"
    },
    {
     "data": {
      "image/png": "[encoded data removed]",
      "text/plain": [
       "<Figure size 432x288 with 1 Axes>"
      ]
     },
     "metadata": {
      "needs_background": "light"
     },
     "output_type": "display_data"
    }
   ],
   "source": [
    "n_units = [x[0] for x in raw_numbers]\n",
    "ff=pd.Series(n_units)\n",
    "ff.hist()"
   ]
  },
  {
   "cell_type": "code",
   "execution_count": 13,
   "metadata": {},
   "outputs": [
    {
     "data": {
      "text/plain": [
       "<matplotlib.axes._subplots.AxesSubplot at 0x16300383908>"
      ]
     },
     "execution_count": 13,
     "metadata": {},
     "output_type": "execute_result"
    },
    {
     "data": {
      "image/png": "[encoded data removed]",
      "text/plain": [
       "<Figure size 432x288 with 1 Axes>"
      ]
     },
     "metadata": {
      "needs_background": "light"
     },
     "output_type": "display_data"
    }
   ],
   "source": [
    "sn.distplot(n_units,kde=False)"
   ]
  },
  {
   "cell_type": "code",
   "execution_count": 14,
   "metadata": {},
   "outputs": [
    {
     "data": {
      "image/png": "[encoded data removed]",
      "text/plain": [
       "<Figure size 432x288 with 1 Axes>"
      ]
     },
     "metadata": {
      "needs_background": "light"
     },
     "output_type": "display_data"
    }
   ],
   "source": [
    "n_norm = [x[0]/x[1]*1000 for x in raw_numbers]\n",
    "n_norm=np.array(n_norm)\n",
    "n_norm=n_norm[np.logical_not(np.isnan(n_norm))]\n",
    "ax = sn.distplot(n_norm,kde=False)\n",
    "fig = ax.get_figure()\n",
    "fig.savefig(r'C:\\temp\\units_mm.pdf')"
   ]
  },
  {
   "cell_type": "code",
   "execution_count": 15,
   "metadata": {},
   "outputs": [
    {
     "data": {
      "text/plain": [
       "[186, 2670.663394158115, 'VISp']"
      ]
     },
     "execution_count": 15,
     "metadata": {},
     "output_type": "execute_result"
    }
   ],
   "source": [
    "gg=['RSP' if el.startswith('RS') else el for el in parent_winner]\n",
    "gg=['VISp' if el.startswith('LGd') else el for el in gg]\n",
    "gg=['VISp' if el.startswith('VIS') or el.startswith('SS') else el for el in gg]\n",
    "gg=['MEC' if el.startswith('ECT') else el for el in gg]\n",
    "data=[[x[0][0], x[0][1], x[1]] for x in zip(raw_numbers,gg)]\n",
    "data[3]"
   ]
  },
  {
   "cell_type": "code",
   "execution_count": 20,
   "metadata": {},
   "outputs": [
    {
     "data": {
      "image/png": "[encoded data removed]",
      "text/plain": [
       "<Figure size 432x288 with 1 Axes>"
      ]
     },
     "metadata": {},
     "output_type": "display_data"
    }
   ],
   "source": [
    "gg=['RSP' if el.startswith('RS') else el for el in parent_winner]\n",
    "gg=['VISp' if el.startswith('LGd') else el for el in gg]\n",
    "gg=['VISp' if el.startswith('VIS') or el.startswith('SS') else el for el in gg]\n",
    "gg=['MEC' if el.startswith('ECT') else el for el in gg]\n",
    "data=[[x[0][0], x[0][1], x[1]] for x in zip(raw_numbers,gg) if x[1].startswith('MEC')]\n",
    "\n",
    "df=pd.DataFrame(data,columns=['n units', 'insertion length','parent'])\n",
    "ax=df.plot.scatter(x='n units',y='insertion length')\n",
    "\n",
    "fig = ax.get_figure()\n",
    "fig.savefig(r'C:\\temp\\scatter_units_MEC_2.pdf',bbox_inches=\"tight\")\n"
   ]
  },
  {
   "cell_type": "code",
   "execution_count": 17,
   "metadata": {},
   "outputs": [
    {
     "ename": "ValueError",
     "evalue": "The palette list has the wrong number of colors.",
     "output_type": "error",
     "traceback": [
      "\u001b[1;31m---------------------------------------------------------------------------\u001b[0m",
      "\u001b[1;31mValueError\u001b[0m                                Traceback (most recent call last)",
      "\u001b[1;32m<ipython-input-17-5aa03d04676f>\u001b[0m in \u001b[0;36m<module>\u001b[1;34m\u001b[0m\n\u001b[0;32m      5\u001b[0m \u001b[0msn\u001b[0m\u001b[1;33m.\u001b[0m\u001b[0mset_style\u001b[0m\u001b[1;33m(\u001b[0m\u001b[1;34m\"darkgrid\"\u001b[0m\u001b[1;33m)\u001b[0m\u001b[1;33m\u001b[0m\u001b[0m\n\u001b[0;32m      6\u001b[0m \u001b[1;31m#sn.set_style(\"whitegrid\")\u001b[0m\u001b[1;33m\u001b[0m\u001b[1;33m\u001b[0m\u001b[0m\n\u001b[1;32m----> 7\u001b[1;33m \u001b[0max\u001b[0m\u001b[1;33m=\u001b[0m\u001b[0msn\u001b[0m\u001b[1;33m.\u001b[0m\u001b[0mscatterplot\u001b[0m\u001b[1;33m(\u001b[0m\u001b[0mx\u001b[0m\u001b[1;33m=\u001b[0m\u001b[1;34m\"n units\"\u001b[0m\u001b[1;33m,\u001b[0m \u001b[0my\u001b[0m\u001b[1;33m=\u001b[0m\u001b[1;34m\"insertion length\"\u001b[0m\u001b[1;33m,\u001b[0m \u001b[0mhue\u001b[0m\u001b[1;33m=\u001b[0m\u001b[1;34m\"parent\"\u001b[0m\u001b[1;33m,\u001b[0m\u001b[0mdata\u001b[0m\u001b[1;33m=\u001b[0m\u001b[0mdf\u001b[0m\u001b[1;33m,\u001b[0m\u001b[0mpalette\u001b[0m \u001b[1;33m=\u001b[0m \u001b[0msn\u001b[0m\u001b[1;33m.\u001b[0m\u001b[0mcolor_palette\u001b[0m\u001b[1;33m(\u001b[0m\u001b[1;34m\"Paired\"\u001b[0m\u001b[1;33m,\u001b[0m\u001b[1;36m12\u001b[0m\u001b[1;33m)\u001b[0m\u001b[1;33m)\u001b[0m\u001b[1;31m#palette=sn.diverging_palette(312, 33, l=60, n=13, center=\"light\"))\u001b[0m\u001b[1;33m\u001b[0m\u001b[0m\n\u001b[0m\u001b[0;32m      8\u001b[0m \u001b[0mplt\u001b[0m\u001b[1;33m.\u001b[0m\u001b[0mlegend\u001b[0m\u001b[1;33m(\u001b[0m\u001b[0mbbox_to_anchor\u001b[0m\u001b[1;33m=\u001b[0m\u001b[1;33m(\u001b[0m\u001b[1;36m1.05\u001b[0m\u001b[1;33m,\u001b[0m \u001b[1;36m1\u001b[0m\u001b[1;33m)\u001b[0m\u001b[1;33m,\u001b[0m \u001b[0mloc\u001b[0m\u001b[1;33m=\u001b[0m\u001b[1;36m2\u001b[0m\u001b[1;33m,\u001b[0m \u001b[0mborderaxespad\u001b[0m\u001b[1;33m=\u001b[0m\u001b[1;36m0.\u001b[0m\u001b[1;33m)\u001b[0m\u001b[1;33m\u001b[0m\u001b[0m\n\u001b[0;32m      9\u001b[0m \u001b[0mfig\u001b[0m \u001b[1;33m=\u001b[0m \u001b[0max\u001b[0m\u001b[1;33m.\u001b[0m\u001b[0mget_figure\u001b[0m\u001b[1;33m(\u001b[0m\u001b[1;33m)\u001b[0m\u001b[1;33m\u001b[0m\u001b[0m\n",
      "\u001b[1;32m~\\AppData\\Local\\Continuum\\anaconda3\\envs\\suite2p\\lib\\site-packages\\seaborn\\relational.py\u001b[0m in \u001b[0;36mscatterplot\u001b[1;34m(x, y, hue, style, size, data, palette, hue_order, hue_norm, sizes, size_order, size_norm, markers, style_order, x_bins, y_bins, units, estimator, ci, n_boot, alpha, x_jitter, y_jitter, legend, ax, **kwargs)\u001b[0m\n\u001b[0;32m   1333\u001b[0m         \u001b[0mx_bins\u001b[0m\u001b[1;33m=\u001b[0m\u001b[0mx_bins\u001b[0m\u001b[1;33m,\u001b[0m \u001b[0my_bins\u001b[0m\u001b[1;33m=\u001b[0m\u001b[0my_bins\u001b[0m\u001b[1;33m,\u001b[0m\u001b[1;33m\u001b[0m\u001b[0m\n\u001b[0;32m   1334\u001b[0m         \u001b[0mestimator\u001b[0m\u001b[1;33m=\u001b[0m\u001b[0mestimator\u001b[0m\u001b[1;33m,\u001b[0m \u001b[0mci\u001b[0m\u001b[1;33m=\u001b[0m\u001b[0mci\u001b[0m\u001b[1;33m,\u001b[0m \u001b[0mn_boot\u001b[0m\u001b[1;33m=\u001b[0m\u001b[0mn_boot\u001b[0m\u001b[1;33m,\u001b[0m\u001b[1;33m\u001b[0m\u001b[0m\n\u001b[1;32m-> 1335\u001b[1;33m         \u001b[0malpha\u001b[0m\u001b[1;33m=\u001b[0m\u001b[0malpha\u001b[0m\u001b[1;33m,\u001b[0m \u001b[0mx_jitter\u001b[0m\u001b[1;33m=\u001b[0m\u001b[0mx_jitter\u001b[0m\u001b[1;33m,\u001b[0m \u001b[0my_jitter\u001b[0m\u001b[1;33m=\u001b[0m\u001b[0my_jitter\u001b[0m\u001b[1;33m,\u001b[0m \u001b[0mlegend\u001b[0m\u001b[1;33m=\u001b[0m\u001b[0mlegend\u001b[0m\u001b[1;33m,\u001b[0m\u001b[1;33m\u001b[0m\u001b[0m\n\u001b[0m\u001b[0;32m   1336\u001b[0m     )\n\u001b[0;32m   1337\u001b[0m \u001b[1;33m\u001b[0m\u001b[0m\n",
      "\u001b[1;32m~\\AppData\\Local\\Continuum\\anaconda3\\envs\\suite2p\\lib\\site-packages\\seaborn\\relational.py\u001b[0m in \u001b[0;36m__init__\u001b[1;34m(self, x, y, hue, size, style, data, palette, hue_order, hue_norm, sizes, size_order, size_norm, dashes, markers, style_order, x_bins, y_bins, units, estimator, ci, n_boot, alpha, x_jitter, y_jitter, legend)\u001b[0m\n\u001b[0;32m    857\u001b[0m         )\n\u001b[0;32m    858\u001b[0m \u001b[1;33m\u001b[0m\u001b[0m\n\u001b[1;32m--> 859\u001b[1;33m         \u001b[0mself\u001b[0m\u001b[1;33m.\u001b[0m\u001b[0mparse_hue\u001b[0m\u001b[1;33m(\u001b[0m\u001b[0mplot_data\u001b[0m\u001b[1;33m[\u001b[0m\u001b[1;34m\"hue\"\u001b[0m\u001b[1;33m]\u001b[0m\u001b[1;33m,\u001b[0m \u001b[0mpalette\u001b[0m\u001b[1;33m,\u001b[0m \u001b[0mhue_order\u001b[0m\u001b[1;33m,\u001b[0m \u001b[0mhue_norm\u001b[0m\u001b[1;33m)\u001b[0m\u001b[1;33m\u001b[0m\u001b[0m\n\u001b[0m\u001b[0;32m    860\u001b[0m         \u001b[0mself\u001b[0m\u001b[1;33m.\u001b[0m\u001b[0mparse_size\u001b[0m\u001b[1;33m(\u001b[0m\u001b[0mplot_data\u001b[0m\u001b[1;33m[\u001b[0m\u001b[1;34m\"size\"\u001b[0m\u001b[1;33m]\u001b[0m\u001b[1;33m,\u001b[0m \u001b[0msizes\u001b[0m\u001b[1;33m,\u001b[0m \u001b[0msize_order\u001b[0m\u001b[1;33m,\u001b[0m \u001b[0msize_norm\u001b[0m\u001b[1;33m)\u001b[0m\u001b[1;33m\u001b[0m\u001b[0m\n\u001b[0;32m    861\u001b[0m         \u001b[0mself\u001b[0m\u001b[1;33m.\u001b[0m\u001b[0mparse_style\u001b[0m\u001b[1;33m(\u001b[0m\u001b[0mplot_data\u001b[0m\u001b[1;33m[\u001b[0m\u001b[1;34m\"style\"\u001b[0m\u001b[1;33m]\u001b[0m\u001b[1;33m,\u001b[0m \u001b[0mmarkers\u001b[0m\u001b[1;33m,\u001b[0m \u001b[1;32mNone\u001b[0m\u001b[1;33m,\u001b[0m \u001b[0mstyle_order\u001b[0m\u001b[1;33m)\u001b[0m\u001b[1;33m\u001b[0m\u001b[0m\n",
      "\u001b[1;32m~\\AppData\\Local\\Continuum\\anaconda3\\envs\\suite2p\\lib\\site-packages\\seaborn\\relational.py\u001b[0m in \u001b[0;36mparse_hue\u001b[1;34m(self, data, palette, order, norm)\u001b[0m\n\u001b[0;32m    365\u001b[0m             \u001b[0mlimits\u001b[0m \u001b[1;33m=\u001b[0m \u001b[1;32mNone\u001b[0m\u001b[1;33m\u001b[0m\u001b[0m\n\u001b[0;32m    366\u001b[0m             levels, palette = self.categorical_to_palette(\n\u001b[1;32m--> 367\u001b[1;33m                 \u001b[0mdata\u001b[0m\u001b[1;33m,\u001b[0m \u001b[0morder\u001b[0m\u001b[1;33m,\u001b[0m \u001b[0mpalette\u001b[0m\u001b[1;33m\u001b[0m\u001b[0m\n\u001b[0m\u001b[0;32m    368\u001b[0m             )\n\u001b[0;32m    369\u001b[0m \u001b[1;33m\u001b[0m\u001b[0m\n",
      "\u001b[1;32m~\\AppData\\Local\\Continuum\\anaconda3\\envs\\suite2p\\lib\\site-packages\\seaborn\\relational.py\u001b[0m in \u001b[0;36mcategorical_to_palette\u001b[1;34m(self, data, order, palette)\u001b[0m\n\u001b[0;32m    219\u001b[0m                 \u001b[1;32mif\u001b[0m \u001b[0mlen\u001b[0m\u001b[1;33m(\u001b[0m\u001b[0mpalette\u001b[0m\u001b[1;33m)\u001b[0m \u001b[1;33m!=\u001b[0m \u001b[0mn_colors\u001b[0m\u001b[1;33m:\u001b[0m\u001b[1;33m\u001b[0m\u001b[0m\n\u001b[0;32m    220\u001b[0m                     \u001b[0merr\u001b[0m \u001b[1;33m=\u001b[0m \u001b[1;34m\"The palette list has the wrong number of colors.\"\u001b[0m\u001b[1;33m\u001b[0m\u001b[0m\n\u001b[1;32m--> 221\u001b[1;33m                     \u001b[1;32mraise\u001b[0m \u001b[0mValueError\u001b[0m\u001b[1;33m(\u001b[0m\u001b[0merr\u001b[0m\u001b[1;33m)\u001b[0m\u001b[1;33m\u001b[0m\u001b[0m\n\u001b[0m\u001b[0;32m    222\u001b[0m                 \u001b[0mcolors\u001b[0m \u001b[1;33m=\u001b[0m \u001b[0mpalette\u001b[0m\u001b[1;33m\u001b[0m\u001b[0m\n\u001b[0;32m    223\u001b[0m             \u001b[1;32melse\u001b[0m\u001b[1;33m:\u001b[0m\u001b[1;33m\u001b[0m\u001b[0m\n",
      "\u001b[1;31mValueError\u001b[0m: The palette list has the wrong number of colors."
     ]
    }
   ],
   "source": [
    "import matplotlib.pyplot as plt\n",
    "import matplotlib\n",
    "matplotlib.rcParams['pdf.fonttype'] = 42\n",
    "matplotlib.rcParams['ps.fonttype'] = 42\n",
    "sn.set_style(\"darkgrid\")\n",
    "#sn.set_style(\"whitegrid\")\n",
    "ax=sn.scatterplot(x=\"n units\", y=\"insertion length\", hue=\"parent\",data=df,palette = sn.color_palette(\"Paired\",12))#palette=sn.diverging_palette(312, 33, l=60, n=13, center=\"light\"))\n",
    "plt.legend(bbox_to_anchor=(1.05, 1), loc=2, borderaxespad=0.)\n",
    "fig = ax.get_figure()\n",
    "fig.savefig(r'C:\\temp\\scatter_units.pdf',bbox_inches=\"tight\")\n",
    "#sn.despine()"
   ]
  }
 ],
 "metadata": {
  "kernelspec": {
   "display_name": "Python (base)",
   "language": "python",
   "name": "base"
  },
  "language_info": {
   "codemirror_mode": {
    "name": "ipython",
    "version": 3
   },
   "file_extension": ".py",
   "mimetype": "text/x-python",
   "name": "python",
   "nbconvert_exporter": "python",
   "pygments_lexer": "ipython3",
   "version": "3.6.5"
  }
 },
 "nbformat": 4,
 "nbformat_minor": 2
}
