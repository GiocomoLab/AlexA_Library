{
 "cells": [
  {
   "cell_type": "code",
   "execution_count": 1,
   "metadata": {},
   "outputs": [],
   "source": [
    "# run from suite2p environment!!\n",
    "import matplotlib.pyplot as plt\n",
    "import numpy as np\n",
    "%matplotlib inline\n",
    "import sys\n",
    "sys.path.append('./helpers')\n",
    "import loadmat as lm\n",
    "import glob\n",
    "import helpers\n",
    "import tensortools as tt"
   ]
  },
  {
   "cell_type": "code",
   "execution_count": 2,
   "metadata": {},
   "outputs": [],
   "source": [
    "files = glob.glob('F:/NP_DATA/np*_gain*.mat')\n"
   ]
  },
  {
   "cell_type": "code",
   "execution_count": null,
   "metadata": {},
   "outputs": [],
   "source": [
    "test_data = lm.loadmat(files[1])"
   ]
  },
  {
   "cell_type": "code",
   "execution_count": null,
   "metadata": {},
   "outputs": [],
   "source": [
    "def getRateMap(data):\n",
    "    for cell_idx in range(len(good_cells)):   \n",
    "        spike_t = data['sp']['st'][data['sp']['clu']==good_cells[cell_idx]]\n",
    "        spikes_per_bin = np.histogram(spike_t,bins=post)[0]\n",
    "        \n",
    "        for iT in trials:\n",
    "            idx = data['trial']==iT\n",
    "            posx_this ="
   ]
  },
  {
   "cell_type": "code",
   "execution_count": null,
   "metadata": {},
   "outputs": [],
   "source": [
    "For the i-th spike in the data:\n",
    "trials[i] = # integer number, the trial that the i-th spike was fired on\n",
    "spiketimes[i] = # integer number, the time bin of the spike within the trial\n",
    "neurons[i] = # integer number, the index of the neuron that fired the spike"
   ]
  },
  {
   "cell_type": "code",
   "execution_count": null,
   "metadata": {},
   "outputs": [],
   "source": [
    "spiketimes = np.digitize(data['sp']['st'][validSpikes],data['post'])\n",
    "spikelocations = location_vec[spiketimes]\n"
   ]
  },
  {
   "cell_type": "code",
   "execution_count": null,
   "metadata": {},
   "outputs": [],
   "source": [
    "\n",
    "@numba.jit(nopython=True)\n",
    "def _fast_bin(counts, trials, bins, neurons):\n",
    "    \"\"\"\n",
    "    Given coordinates of spikes, compile binned spike counts. Throw away\n",
    "    spikes that are outside of tmin and tmax.\n",
    "    \"\"\"\n",
    "    for i, j, k in zip(trials, bins, neurons):\n",
    "        if (j < 0) or (int(j) >= counts.shape[1]):\n",
    "            pass\n",
    "        else:\n",
    "            counts[i, int(j), k] += 1"
   ]
  }
 ],
 "metadata": {
  "kernelspec": {
   "display_name": "Python (base)",
   "language": "python",
   "name": "base"
  },
  "language_info": {
   "codemirror_mode": {
    "name": "ipython",
    "version": 3
   },
   "file_extension": ".py",
   "mimetype": "text/x-python",
   "name": "python",
   "nbconvert_exporter": "python",
   "pygments_lexer": "ipython3",
   "version": "3.6.5"
  }
 },
 "nbformat": 4,
 "nbformat_minor": 2
}
