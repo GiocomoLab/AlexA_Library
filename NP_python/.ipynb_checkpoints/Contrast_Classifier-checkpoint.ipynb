{
 "cells": [
  {
   "cell_type": "code",
   "execution_count": 57,
   "metadata": {},
   "outputs": [],
   "source": [
    "import matplotlib.pyplot as plt\n",
    "import numpy as np\n",
    "%matplotlib inline\n",
    "import scipy.io as sio\n",
    "import sys\n",
    "sys.path.append('../helpers')\n",
    "import loadmat as lm\n",
    "from sklearn import linear_model\n",
    "from scipy import signal\n",
    "from sklearn.model_selection import cross_val_score, cross_validate\n",
    "import os\n",
    "from sklearn.metrics import make_scorer\n",
    "import glob\n",
    "from sklearn.metrics import mean_absolute_error\n",
    "import seaborn as sns\n"
   ]
  },
  {
   "cell_type": "code",
   "execution_count": 13,
   "metadata": {},
   "outputs": [
    {
     "name": "stdout",
     "output_type": "stream",
     "text": [
      "Z:/giocomo/attialex/NP_DATA\\npF3_1019_contrasttrack_gainchanges_contrast_1.mat\n",
      "Z:/giocomo/attialex/NP_DATA\\npH1_0312_contrast_1.mat\n",
      "Z:/giocomo/attialex/NP_DATA\\npH1_0313_contrast_2.mat\n",
      "Z:/giocomo/attialex/NP_DATA\\npH3_0330_contrast_2.mat\n",
      "Z:/giocomo/attialex/NP_DATA\\npH4_0319_contrast_2.mat\n",
      "Z:/giocomo/attialex/NP_DATA\\npH5_0324_contrast_1.mat\n",
      "Z:/giocomo/attialex/NP_DATA\\npI1_0414_contrast_2.mat\n",
      "Z:/giocomo/attialex/NP_DATA\\npI3_0421_contrast_1.mat\n",
      "Z:/giocomo/attialex/NP_DATA\\npI4_0421_contrast_2.mat\n",
      "Z:/giocomo/attialex/NP_DATA\\npI5_0414_contrast_1.mat\n",
      "Z:/giocomo/attialex/NP_DATA\\npJ1_0521_contrast_1.mat\n",
      "Z:/giocomo/attialex/NP_DATA\\npJ2_0512_contrast_1.mat\n",
      "Z:/giocomo/attialex/NP_DATA\\npJ3_0506_contrast_1.mat\n",
      "Z:/giocomo/attialex/NP_DATA\\npJ4_0512_contrast_1.mat\n",
      "Z:/giocomo/attialex/NP_DATA\\npJ5_0505_contrast_1.mat\n"
     ]
    }
   ],
   "source": [
    "files = glob.glob('Z:/giocomo/attialex/NP_DATA/*_contrast_*.mat')\n",
    "for iF in files:\n",
    "    print(iF)"
   ]
  },
  {
   "cell_type": "code",
   "execution_count": 33,
   "metadata": {},
   "outputs": [],
   "source": [
    "def preprocess(data):\n",
    "    track_start = 0\n",
    "    track_end = 400\n",
    "    dx=5\n",
    "    dt=0.2\n",
    "    every_nth_time_bin = 10\n",
    "    numposbins = np.floor((track_end-track_start)/dx)\n",
    "    posx_edges = np.linspace(track_start,track_end,numposbins+1)\n",
    "    posx=data['posx']\n",
    "    post=data['post']\n",
    "    trial = data['trial']\n",
    "    sp =  data['sp']\n",
    "    \n",
    "    # resample post, posx, and trial according to desired dt\n",
    "    post_resampled = post[0::every_nth_time_bin]\n",
    "    posx_resampled = posx[0::every_nth_time_bin]\n",
    "    trial_resampled = trial[0::every_nth_time_bin]\n",
    "\n",
    "    # get cell ids of \"good\" units\n",
    "    good_cells = sp['cids'][sp['cgs']==2]\n",
    "\n",
    "    # time bins for position decoding\n",
    "    numtimebins = len(post_resampled)\n",
    "    post_edges = np.squeeze(np.linspace(min(post)-dt/2,max(post)+dt/2,numtimebins+1))\n",
    "    post_centers = post_edges[range(0,len(post_edges)-1)]+dt/2\n",
    "\n",
    "    # posx categories for position decoding (binned)\n",
    "    posx_bin = np.digitize(posx_resampled,posx_edges)\n",
    "\n",
    "    # count spikes in each time bin for each cell\n",
    "    spikecount = np.empty((len(good_cells),len(post_resampled),))\n",
    "    spikecount[:] = np.nan\n",
    "    for cell_idx in range(len(good_cells)):   \n",
    "        spike_t = sp['st'][sp['clu']==good_cells[cell_idx]]\n",
    "        spikecount[cell_idx,:] = np.histogram(spike_t,bins=post_edges)[0]\n",
    "    data['spikecount']=np.transpose(spikecount)\n",
    "    data['posx_bin']=posx_bin\n",
    "    data['trial_resampled']=trial_resampled\n",
    "    return data"
   ]
  },
  {
   "cell_type": "code",
   "execution_count": 14,
   "metadata": {},
   "outputs": [],
   "source": [
    "test_data = lm.loadmat(files[1])"
   ]
  },
  {
   "cell_type": "code",
   "execution_count": 34,
   "metadata": {},
   "outputs": [
    {
     "name": "stderr",
     "output_type": "stream",
     "text": [
      "C:\\Users\\attialex\\AppData\\Local\\Continuum\\anaconda3\\envs\\panda3d\\lib\\site-packages\\ipykernel_launcher.py:8: DeprecationWarning: object of type <class 'numpy.float64'> cannot be safely interpreted as an integer.\n",
      "  \n"
     ]
    }
   ],
   "source": [
    "test_data = preprocess(test_data)"
   ]
  },
  {
   "cell_type": "code",
   "execution_count": 55,
   "metadata": {},
   "outputs": [
    {
     "data": {
      "text/plain": [
       "[<matplotlib.lines.Line2D at 0x18cdc2a5a20>]"
      ]
     },
     "execution_count": 55,
     "metadata": {},
     "output_type": "execute_result"
    },
    {
     "data": {
      "image/png": "[encoded data removed]",
      "text/plain": [
       "<Figure size 432x288 with 1 Axes>"
      ]
     },
     "metadata": {
      "needs_background": "light"
     },
     "output_type": "display_data"
    }
   ],
   "source": [
    "bl_trials = np.nonzero(np.all([test_data['trial_contrast']==100, test_data['trial_gain']==1],axis = 0))\n",
    "trialidx = np.isin(test_data['trial_resampled'],bl_trials)\n",
    "plt.plot(trialidx)"
   ]
  },
  {
   "cell_type": "code",
   "execution_count": 58,
   "metadata": {},
   "outputs": [
    {
     "name": "stderr",
     "output_type": "stream",
     "text": [
      "C:\\Users\\attialex\\AppData\\Local\\Continuum\\anaconda3\\envs\\panda3d\\lib\\site-packages\\scipy\\stats\\stats.py:1713: FutureWarning: Using a non-tuple sequence for multidimensional indexing is deprecated; use `arr[tuple(seq)]` instead of `arr[seq]`. In the future this will be interpreted as an array index, `arr[np.array(seq)]`, which will result either in an error or a different result.\n",
      "  return np.add.reduce(sorted[indexer] * weights, axis=axis) / sumval\n"
     ]
    },
    {
     "data": {
      "text/plain": [
       "<matplotlib.axes._subplots.AxesSubplot at 0x18cde5c8fd0>"
      ]
     },
     "execution_count": 58,
     "metadata": {},
     "output_type": "execute_result"
    },
    {
     "data": {
      "image/png": "[encoded data removed]",
      "text/plain": [
       "<Figure size 432x288 with 1 Axes>"
      ]
     },
     "metadata": {
      "needs_background": "light"
     },
     "output_type": "display_data"
    }
   ],
   "source": [
    "sns.distplot(test_data['posx_bin'][trialidx])"
   ]
  },
  {
   "cell_type": "code",
   "execution_count": 44,
   "metadata": {},
   "outputs": [
    {
     "data": {
      "text/plain": [
       "LogisticRegression(C=0.1, class_weight=None, dual=False, fit_intercept=True,\n",
       "                   intercept_scaling=1, l1_ratio=None, max_iter=10000,\n",
       "                   multi_class='multinomial', n_jobs=None, penalty='l2',\n",
       "                   random_state=0, solver='lbfgs', tol=0.0001, verbose=0,\n",
       "                   warm_start=False)"
      ]
     },
     "execution_count": 44,
     "metadata": {},
     "output_type": "execute_result"
    }
   ],
   "source": [
    "model = linear_model.LogisticRegression(random_state=0, solver='lbfgs', multi_class='multinomial', max_iter=10000, C = 0.1)\n",
    "model.fit(test_data['spikecount'][trialidx,:],test_data['posx_bin'][trialidx])"
   ]
  },
  {
   "cell_type": "code",
   "execution_count": 50,
   "metadata": {},
   "outputs": [
    {
     "name": "stdout",
     "output_type": "stream",
     "text": [
      "5.503810560696788\n",
      "11.713483146067416\n",
      "16.429962141698216\n",
      "20.492970946579195\n",
      "23.317238267148014\n",
      "24.760679079956187\n",
      "26.6131090487239\n"
     ]
    }
   ],
   "source": [
    "for iC in [100, 50, 20, 10, 5, 2, 0]:\n",
    "    bl_trials = np.nonzero(np.all([test_data['trial_contrast']==iC, test_data['trial_gain']==1],axis = 0))\n",
    "    trialidx = np.isin(test_data['trial_resampled'],bl_trials)\n",
    "    #print(model.score(test_data['spikecount'][trialidx,:],test_data['posx_bin'][trialidx]))\n",
    "    Yhat = model.predict(test_data['spikecount'][trialidx,:])\n",
    "    print(mean_absolute_error(Yhat,test_data['posx_bin'][trialidx]))"
   ]
  },
  {
   "cell_type": "code",
   "execution_count": 53,
   "metadata": {},
   "outputs": [],
   "source": [
    "def eval_and_train(dataset):\n",
    "    bl_trials = np.nonzero(np.all([test_data['trial_contrast']==100, test_data['trial_gain']==1],axis = 0))\n",
    "    trialidx = np.isin(test_data['trial_resampled'],bl_trials)\n",
    "    scoring = {'prec_macro': 'precision_macro','mae_macro': make_scorer(mean_absolute_error)}\n",
    "    model = linear_model.LogisticRegression(random_state=0, solver='lbfgs', multi_class='multinomial', max_iter=10000, C = 0.1)\n",
    "    #scores = cross_val_score(model, , cv=5)\n",
    "    scores = cross_validate(model,dataset['spikecount'][trialidx,:],dataset['posx_bin'][trialidx],scoring=scoring, cv=5,return_estimator=True)\n",
    "    \n",
    "    model = linear_model.LogisticRegression(random_state=0, solver='lbfgs', multi_class='multinomial', max_iter=10000, C = 0.1)\n",
    "    model.fit(dataset['spikecount'][trialidx,:],dataset['posx_bin'][trialidx])\n",
    "    return model,scores"
   ]
  },
  {
   "cell_type": "code",
   "execution_count": 54,
   "metadata": {},
   "outputs": [
    {
     "name": "stderr",
     "output_type": "stream",
     "text": [
      "C:\\Users\\attialex\\AppData\\Local\\Continuum\\anaconda3\\envs\\panda3d\\lib\\site-packages\\sklearn\\model_selection\\_split.py:657: Warning: The least populated class in y has only 1 members, which is too few. The minimum number of members in any class cannot be less than n_splits=5.\n",
      "  % (min_groups, self.n_splits)), Warning)\n",
      "C:\\Users\\attialex\\AppData\\Local\\Continuum\\anaconda3\\envs\\panda3d\\lib\\site-packages\\sklearn\\metrics\\classification.py:1437: UndefinedMetricWarning: Precision is ill-defined and being set to 0.0 in labels with no predicted samples.\n",
      "  'precision', 'predicted', average, warn_for)\n",
      "C:\\Users\\attialex\\AppData\\Local\\Continuum\\anaconda3\\envs\\panda3d\\lib\\site-packages\\sklearn\\metrics\\classification.py:1437: UndefinedMetricWarning: Precision is ill-defined and being set to 0.0 in labels with no predicted samples.\n",
      "  'precision', 'predicted', average, warn_for)\n",
      "C:\\Users\\attialex\\AppData\\Local\\Continuum\\anaconda3\\envs\\panda3d\\lib\\site-packages\\sklearn\\metrics\\classification.py:1437: UndefinedMetricWarning: Precision is ill-defined and being set to 0.0 in labels with no predicted samples.\n",
      "  'precision', 'predicted', average, warn_for)\n",
      "C:\\Users\\attialex\\AppData\\Local\\Continuum\\anaconda3\\envs\\panda3d\\lib\\site-packages\\sklearn\\metrics\\classification.py:1437: UndefinedMetricWarning: Precision is ill-defined and being set to 0.0 in labels with no predicted samples.\n",
      "  'precision', 'predicted', average, warn_for)\n",
      "C:\\Users\\attialex\\AppData\\Local\\Continuum\\anaconda3\\envs\\panda3d\\lib\\site-packages\\sklearn\\metrics\\classification.py:1437: UndefinedMetricWarning: Precision is ill-defined and being set to 0.0 in labels with no predicted samples.\n",
      "  'precision', 'predicted', average, warn_for)\n"
     ]
    },
    {
     "data": {
      "text/plain": [
       "(LogisticRegression(C=0.1, class_weight=None, dual=False, fit_intercept=True,\n",
       "                    intercept_scaling=1, l1_ratio=None, max_iter=10000,\n",
       "                    multi_class='multinomial', n_jobs=None, penalty='l2',\n",
       "                    random_state=0, solver='lbfgs', tol=0.0001, verbose=0,\n",
       "                    warm_start=False),\n",
       " {'fit_time': array([12.47268939, 12.93744898, 14.31776309, 10.12196851, 13.46304488]),\n",
       "  'score_time': array([0.00897741, 0.00199437, 0.00299096, 0.00199389, 0.00199509]),\n",
       "  'estimator': (LogisticRegression(C=0.1, class_weight=None, dual=False, fit_intercept=True,\n",
       "                      intercept_scaling=1, l1_ratio=None, max_iter=10000,\n",
       "                      multi_class='multinomial', n_jobs=None, penalty='l2',\n",
       "                      random_state=0, solver='lbfgs', tol=0.0001, verbose=0,\n",
       "                      warm_start=False),\n",
       "   LogisticRegression(C=0.1, class_weight=None, dual=False, fit_intercept=True,\n",
       "                      intercept_scaling=1, l1_ratio=None, max_iter=10000,\n",
       "                      multi_class='multinomial', n_jobs=None, penalty='l2',\n",
       "                      random_state=0, solver='lbfgs', tol=0.0001, verbose=0,\n",
       "                      warm_start=False),\n",
       "   LogisticRegression(C=0.1, class_weight=None, dual=False, fit_intercept=True,\n",
       "                      intercept_scaling=1, l1_ratio=None, max_iter=10000,\n",
       "                      multi_class='multinomial', n_jobs=None, penalty='l2',\n",
       "                      random_state=0, solver='lbfgs', tol=0.0001, verbose=0,\n",
       "                      warm_start=False),\n",
       "   LogisticRegression(C=0.1, class_weight=None, dual=False, fit_intercept=True,\n",
       "                      intercept_scaling=1, l1_ratio=None, max_iter=10000,\n",
       "                      multi_class='multinomial', n_jobs=None, penalty='l2',\n",
       "                      random_state=0, solver='lbfgs', tol=0.0001, verbose=0,\n",
       "                      warm_start=False),\n",
       "   LogisticRegression(C=0.1, class_weight=None, dual=False, fit_intercept=True,\n",
       "                      intercept_scaling=1, l1_ratio=None, max_iter=10000,\n",
       "                      multi_class='multinomial', n_jobs=None, penalty='l2',\n",
       "                      random_state=0, solver='lbfgs', tol=0.0001, verbose=0,\n",
       "                      warm_start=False)),\n",
       "  'test_prec_macro': array([0.16326542, 0.18503699, 0.16080729, 0.15396251, 0.15750559]),\n",
       "  'test_mae_macro': array([ 8.82597403,  8.87566138, 12.53214774, 12.94405594, 13.66239316])})"
      ]
     },
     "execution_count": 54,
     "metadata": {},
     "output_type": "execute_result"
    }
   ],
   "source": [
    "eval_and_train(test_data)"
   ]
  },
  {
   "cell_type": "code",
   "execution_count": 60,
   "metadata": {},
   "outputs": [],
   "source": [
    "def score_baseline_model(model,test_data):\n",
    "    for iC in [100, 50, 20, 10, 5, 2, 0]:\n",
    "        bl_trials = np.nonzero(np.all([test_data['trial_contrast']==iC, test_data['trial_gain']==1],axis = 0))\n",
    "        trialidx = np.isin(test_data['trial_resampled'],bl_trials)\n",
    "        #print(model.score(test_data['spikecount'][trialidx,:],test_data['posx_bin'][trialidx]))\n",
    "        Yhat = model.predict(test_data['spikecount'][trialidx,:])\n",
    "        mae = mean_absolute_error(Yhat,test_data['posx_bin'][trialidx])\n",
    "        prec = model.score(test_data['spikecount'][trialidx,:],test_data['posx_bin'][trialidx])\n",
    "        return (mae,prec)"
   ]
  },
  {
   "cell_type": "code",
   "execution_count": 61,
   "metadata": {},
   "outputs": [
    {
     "data": {
      "text/plain": [
       "(5.503810560696788, 0.562874251497006)"
      ]
     },
     "execution_count": 61,
     "metadata": {},
     "output_type": "execute_result"
    }
   ],
   "source": [
    "score_baseline_model(model,test_data)"
   ]
  },
  {
   "cell_type": "code",
   "execution_count": null,
   "metadata": {},
   "outputs": [],
   "source": [
    "def run_all_files(datasets):\n",
    "    contrast_scores = []\n",
    "    baseline_scores = []\n",
    "    for iF in datasets:\n",
    "        dataset = lm.loadmat(iF)\n",
    "        dataset = preprocess(dataset)\n",
    "        (model, bl_scores) = eval_and_train(dataset)\n",
    "        tmp_scores = score_baseline_model(model,dataset)\n",
    "        contrast_scores.append(tmp_scores)\n",
    "        baseline_scores.append(bl_scores)"
   ]
  }
 ],
 "metadata": {
  "kernelspec": {
   "display_name": "Python 3",
   "language": "python",
   "name": "python3"
  },
  "language_info": {
   "codemirror_mode": {
    "name": "ipython",
    "version": 3
   },
   "file_extension": ".py",
   "mimetype": "text/x-python",
   "name": "python",
   "nbconvert_exporter": "python",
   "pygments_lexer": "ipython3",
   "version": "3.7.2"
  }
 },
 "nbformat": 4,
 "nbformat_minor": 2
}
