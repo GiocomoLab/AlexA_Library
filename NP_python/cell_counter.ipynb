{
 "cells": [
  {
   "cell_type": "code",
   "execution_count": 1,
   "metadata": {},
   "outputs": [],
   "source": [
    "import sys\n",
    "sys.path.append('./helpers')\n",
    "import loadmat as lm\n",
    "import glob\n",
    "import os\n",
    "from collections import Counter\n",
    "import numpy as np\n",
    "import seaborn as sn\n",
    "import pandas as pd"
   ]
  },
  {
   "cell_type": "code",
   "execution_count": 5,
   "metadata": {},
   "outputs": [],
   "source": [
    "files = glob.glob('F:/NP_DATA/*.mat')"
   ]
  },
  {
   "cell_type": "code",
   "execution_count": 9,
   "metadata": {},
   "outputs": [],
   "source": [
    "fn = os.path.basename(files[1])\n",
    "animal=fn.split('_')[0]\n",
    "date = fn.split('_')[1]\n",
    "\n",
    "pp=dict();\n",
    "validNames = [];\n",
    "for cntr in range(len(files)):\n",
    "    current_file = files[cntr]\n",
    "    fn = os.path.basename(current_file)\n",
    "    animal=fn.split('_')[0]\n",
    "    date = fn.split('_')[1]\n",
    "    if animal in pp:\n",
    "        datelist = pp[animal]\n",
    "        \n",
    "        if date in datelist:\n",
    "            None\n",
    "        else:\n",
    "            pp[animal].append(date)\n",
    "            validNames.append(current_file)\n",
    "    else:\n",
    "        pp[animal]=[];\n",
    "        pp[animal].append(date)\n",
    "        validNames.append(current_file)"
   ]
  },
  {
   "cell_type": "code",
   "execution_count": 8,
   "metadata": {},
   "outputs": [
    {
     "data": {
      "text/plain": [
       "350"
      ]
     },
     "execution_count": 8,
     "metadata": {},
     "output_type": "execute_result"
    }
   ],
   "source": [
    "len(files)"
   ]
  },
  {
   "cell_type": "code",
   "execution_count": 23,
   "metadata": {},
   "outputs": [
    {
     "data": {
      "text/plain": [
       "True"
      ]
     },
     "execution_count": 23,
     "metadata": {},
     "output_type": "execute_result"
    }
   ],
   "source": [
    "li = pp['AA1']\n",
    "'190726' in li"
   ]
  },
  {
   "cell_type": "code",
   "execution_count": 32,
   "metadata": {},
   "outputs": [
    {
     "data": {
      "text/plain": [
       "['F:/NP_DATA\\\\AA1_190726_gain_1.mat',\n",
       " 'F:/NP_DATA\\\\AA1_190727_contrast_1.mat',\n",
       " 'F:/NP_DATA\\\\AA1_190728_gaincontrast10_1.mat',\n",
       " 'F:/NP_DATA\\\\AA1_190729_gain_1.mat',\n",
       " 'F:/NP_DATA\\\\AA1_190730_gaincontrast10_1.mat',\n",
       " 'F:/NP_DATA\\\\AA2_190807_gain_1.mat',\n",
       " 'F:/NP_DATA\\\\AA2_190808_gaincontrast10_1.mat',\n",
       " 'F:/NP_DATA\\\\AA2_190809_gaincontrast10_2.mat',\n",
       " 'F:/NP_DATA\\\\AA2_190810_contrast_1.mat',\n",
       " 'F:/NP_DATA\\\\AA2_190811_dark_1.mat',\n",
       " 'F:/NP_DATA\\\\AA2_190812_gain_1.mat',\n",
       " 'F:/NP_DATA\\\\AA3_190801_gain_3.mat',\n",
       " 'F:/NP_DATA\\\\AA3_190802_contrast_1.mat',\n",
       " 'F:/NP_DATA\\\\AA3_190804_gain_1.mat',\n",
       " 'F:/NP_DATA\\\\AA3_190805_gaincontrast10_1.mat',\n",
       " 'F:/NP_DATA\\\\AA44_190924_gaincontrast10_1.mat',\n",
       " 'F:/NP_DATA\\\\AA44_190925_gain_1.mat',\n",
       " 'F:/NP_DATA\\\\AA44_190926_gain_1.mat',\n",
       " 'F:/NP_DATA\\\\AA44_190927_gaincontrast10_1.mat',\n",
       " 'F:/NP_DATA\\\\AA45_190924_gain_1.mat',\n",
       " 'F:/NP_DATA\\\\AA45_190925_gaincontrast10_1.mat',\n",
       " 'F:/NP_DATA\\\\AA46_190917_gain_1.mat',\n",
       " 'F:/NP_DATA\\\\AA46_190918_gaincontrast10_1.mat',\n",
       " 'F:/NP_DATA\\\\AA46_190919_gain_1.mat',\n",
       " 'F:/NP_DATA\\\\AA46_190920_gaincontrast10_1.mat',\n",
       " 'F:/NP_DATA\\\\AA46_190921_gaincontrast10_combined.mat',\n",
       " 'F:/NP_DATA\\\\AA47_190924_gain_1.mat',\n",
       " 'F:/NP_DATA\\\\AA47_190925_gaincontrast10_1.mat',\n",
       " 'F:/NP_DATA\\\\AA47_190926_gain_1.mat',\n",
       " 'F:/NP_DATA\\\\AA47_190927_gaincontrast10_1.mat',\n",
       " 'F:/NP_DATA\\\\AA48_190921_gaincontrast10_1.mat',\n",
       " 'F:/NP_DATA\\\\AA49_190930_gaincontrast10_1.mat',\n",
       " 'F:/NP_DATA\\\\AA4_190801_gain_1.mat',\n",
       " 'F:/NP_DATA\\\\AA4_190802_gaincontrast10_1.mat',\n",
       " 'F:/NP_DATA\\\\AA4_190803_contrast_1.mat',\n",
       " 'F:/NP_DATA\\\\AA4_190804_gain_2.mat',\n",
       " 'F:/NP_DATA\\\\AA4_190805_gaincontrast10_2.mat',\n",
       " 'F:/NP_DATA\\\\AA4_190806_gain_1.mat',\n",
       " 'F:/NP_DATA\\\\AA50_190930_gaincontrast10_1.mat',\n",
       " 'F:/NP_DATA\\\\AA50_191001_gain_1.mat',\n",
       " 'F:/NP_DATA\\\\AA50_191002_gain_1.mat',\n",
       " 'F:/NP_DATA\\\\AA50_191003_gain_1.mat',\n",
       " 'F:/NP_DATA\\\\AA50_191004_gaincontrast10_1.mat',\n",
       " 'F:/NP_DATA\\\\AA5_190807_gain_1.mat',\n",
       " 'F:/NP_DATA\\\\AA5_190808_gaincontrast10_1.mat',\n",
       " 'F:/NP_DATA\\\\AA5_190809_gain_1.mat',\n",
       " 'F:/NP_DATA\\\\AA5_190810_gaincontrast_1.mat',\n",
       " 'F:/NP_DATA\\\\AA5_190811_dark_1.mat',\n",
       " 'F:/NP_DATA\\\\AA5_190812_gaincontrast10_1.mat',\n",
       " 'F:/NP_DATA\\\\MERGED_FIRSTSESSIONS_AA.mat',\n",
       " 'F:/NP_DATA\\\\npF2_1015_contrasttrack_gainchanges_2.mat',\n",
       " 'F:/NP_DATA\\\\npF2_1016_contrasttrack_gainchanges_1.mat',\n",
       " 'F:/NP_DATA\\\\npF3_1018_contrasttrack_gainchanges_1.mat',\n",
       " 'F:/NP_DATA\\\\npF3_1019_contrasttrack_gainchanges_contrast_1.mat',\n",
       " 'F:/NP_DATA\\\\npF4_1023_gaincontrast_1.mat',\n",
       " 'F:/NP_DATA\\\\npF4_1025_gaincontrast_2.mat',\n",
       " 'F:/NP_DATA\\\\npG1_1218_gaincontrast_2.mat',\n",
       " 'F:/NP_DATA\\\\npG1_1219_gain_1.mat',\n",
       " 'F:/NP_DATA\\\\npG2_1211_gain_1.mat',\n",
       " 'F:/NP_DATA\\\\npG2_1212_gaincontrast_1.mat',\n",
       " 'F:/NP_DATA\\\\npG2_1213_gain_1.mat',\n",
       " 'F:/NP_DATA\\\\npG2_1214_gaincontrast_1.mat',\n",
       " 'F:/NP_DATA\\\\npG4_1203_gain_2.mat',\n",
       " 'F:/NP_DATA\\\\npG4_1204_gaincontrast_2.mat',\n",
       " 'F:/NP_DATA\\\\npG5_1206_gaincontrast_1.mat',\n",
       " 'F:/NP_DATA\\\\npG5_1207_gain_1.mat',\n",
       " 'F:/NP_DATA\\\\npG5_1210_gaincontrast_2.mat',\n",
       " 'F:/NP_DATA\\\\npH1_0311_contrasttrack_2.mat',\n",
       " 'F:/NP_DATA\\\\npH1_0312_contrast_1.mat',\n",
       " 'F:/NP_DATA\\\\npH1_0313_contrast_2.mat',\n",
       " 'F:/NP_DATA\\\\npH1_0314_baseline_1.mat',\n",
       " 'F:/NP_DATA\\\\npH3_0325_dark_1.mat',\n",
       " 'F:/NP_DATA\\\\npH3_0329_baseline_2.mat',\n",
       " 'F:/NP_DATA\\\\npH3_0330_contrast_2.mat',\n",
       " 'F:/NP_DATA\\\\npH3_0401_dark_3.mat',\n",
       " 'F:/NP_DATA\\\\npH3_0402_dark_1.mat',\n",
       " 'F:/NP_DATA\\\\npH3_0403_dark_1.mat',\n",
       " 'F:/NP_DATA\\\\npH3_0404_baseline_8.mat',\n",
       " 'F:/NP_DATA\\\\npH4_0317_baseline_1.mat',\n",
       " 'F:/NP_DATA\\\\npH4_0318_baseline_with_gain_1_KS2.mat',\n",
       " 'F:/NP_DATA\\\\npH4_0319_contrast_2.mat',\n",
       " 'F:/NP_DATA\\\\npH4_0320_baseline_1.mat',\n",
       " 'F:/NP_DATA\\\\npH5_0323_baseline_1.mat',\n",
       " 'F:/NP_DATA\\\\npH5_0324_contrast_1.mat',\n",
       " 'F:/NP_DATA\\\\npH5_0325_dark_1.mat',\n",
       " 'F:/NP_DATA\\\\npH5_0326_baseline_1.mat',\n",
       " 'F:/NP_DATA\\\\npH5_0327_baseline_1.mat',\n",
       " 'F:/NP_DATA\\\\npH5_0328_gaincontrast_1.mat',\n",
       " 'F:/NP_DATA\\\\npI1_0413_baseline_2.mat',\n",
       " 'F:/NP_DATA\\\\npI1_0414_contrast_2.mat',\n",
       " 'F:/NP_DATA\\\\npI1_0415_baseline_1.mat',\n",
       " 'F:/NP_DATA\\\\npI1_0416_baseline_1.mat',\n",
       " 'F:/NP_DATA\\\\npI1_0417_baseline_1.mat',\n",
       " 'F:/NP_DATA\\\\npI1_0418_dark_1.mat',\n",
       " 'F:/NP_DATA\\\\npI3_0420_baseline_gain_1.mat',\n",
       " 'F:/NP_DATA\\\\npI3_0421_contrast_1.mat',\n",
       " 'F:/NP_DATA\\\\npI3_0422_dark_1.mat',\n",
       " 'F:/NP_DATA\\\\npI3_0424_baseline_1.mat',\n",
       " 'F:/NP_DATA\\\\npI3_0425_baseline_1.mat',\n",
       " 'F:/NP_DATA\\\\npI4_0420_baseline_2.mat',\n",
       " 'F:/NP_DATA\\\\npI4_0421_baseline_1.mat',\n",
       " 'F:/NP_DATA\\\\npI4_0422_baseline_1.mat',\n",
       " 'F:/NP_DATA\\\\npI4_0423_baseline_1.mat',\n",
       " 'F:/NP_DATA\\\\npI4_0424_baseline_2.mat',\n",
       " 'F:/NP_DATA\\\\npI4_0425_baseline_1.mat',\n",
       " 'F:/NP_DATA\\\\npI5_0413_baseline_1.mat',\n",
       " 'F:/NP_DATA\\\\npI5_0414_contrast_1.mat',\n",
       " 'F:/NP_DATA\\\\npI5_0415_baseline_1.mat',\n",
       " 'F:/NP_DATA\\\\npI5_0416_baseline_1.mat',\n",
       " 'F:/NP_DATA\\\\npI5_0417_baseline_1.mat',\n",
       " 'F:/NP_DATA\\\\npI5_0418_baseline_1.mat',\n",
       " 'F:/NP_DATA\\\\npJ1_0520_baseline_2.mat',\n",
       " 'F:/NP_DATA\\\\npJ1_0521_baseline_1.mat',\n",
       " 'F:/NP_DATA\\\\npJ1_0522_dark_1.mat',\n",
       " 'F:/NP_DATA\\\\npJ1_0523_baseline_2.mat',\n",
       " 'F:/NP_DATA\\\\npJ1_0524_dark_1.mat',\n",
       " 'F:/NP_DATA\\\\npJ1_0525_dark_1.mat',\n",
       " 'F:/NP_DATA\\\\npJ2_0511_baseline_gain_1.mat',\n",
       " 'F:/NP_DATA\\\\npJ2_0512_contrast_1.mat',\n",
       " 'F:/NP_DATA\\\\npJ2_0513_dark_1.mat',\n",
       " 'F:/NP_DATA\\\\npJ2_0514_dark_1.mat',\n",
       " 'F:/NP_DATA\\\\npJ2_0515_dark_1.mat',\n",
       " 'F:/NP_DATA\\\\npJ2_0516_baseline_1.mat',\n",
       " 'F:/NP_DATA\\\\npJ3_0504_baseline_gain_1.mat',\n",
       " 'F:/NP_DATA\\\\npJ3_0505_dark_1.mat',\n",
       " 'F:/NP_DATA\\\\npJ3_0506_contrast_1.mat',\n",
       " 'F:/NP_DATA\\\\npJ3_0507_dark_2.mat',\n",
       " 'F:/NP_DATA\\\\npJ3_0508_dark_1.mat',\n",
       " 'F:/NP_DATA\\\\npJ3_0509_dark_1.mat',\n",
       " 'F:/NP_DATA\\\\npJ3_0510_baseline_playback_1.mat',\n",
       " 'F:/NP_DATA\\\\npJ4_0511_baseline_gain_1.mat',\n",
       " 'F:/NP_DATA\\\\npJ4_0512_baseline_1.mat',\n",
       " 'F:/NP_DATA\\\\npJ4_0513_baseline_1.mat',\n",
       " 'F:/NP_DATA\\\\npJ4_0514_baseline_1.mat',\n",
       " 'F:/NP_DATA\\\\npJ4_0515_dark_1.mat',\n",
       " 'F:/NP_DATA\\\\npJ4_0516_baseline_1.mat',\n",
       " 'F:/NP_DATA\\\\npJ5_0504_baseline_gain_3.mat',\n",
       " 'F:/NP_DATA\\\\npJ5_0505_baseline_1.mat',\n",
       " 'F:/NP_DATA\\\\npJ5_0506_dark_1.mat',\n",
       " 'F:/NP_DATA\\\\npJ5_0507_baseline_1.mat',\n",
       " 'F:/NP_DATA\\\\npJ5_0508_baseline_playback_1.mat',\n",
       " 'F:/NP_DATA\\\\TW_MERGED_FIRSTSESSIONS_GOOD.mat']"
      ]
     },
     "execution_count": 32,
     "metadata": {},
     "output_type": "execute_result"
    }
   ],
   "source": [
    "validNames"
   ]
  },
  {
   "cell_type": "code",
   "execution_count": 11,
   "metadata": {},
   "outputs": [
    {
     "data": {
      "text/plain": [
       "{'tip_distance': array([ 669.58043374,  899.66717932, 1025.0720537 , 1074.99302846,\n",
       "        1215.1644718 , 1248.01314892, 1313.83143427, 1318.87699042,\n",
       "        1333.67394909, 1358.04422203, 1364.38377241, 1385.37104494,\n",
       "        1393.49579818, 1386.7032491 , 1414.52090361, 1429.13831361,\n",
       "        1435.71126677, 1453.52356083, 1434.70959617, 1444.91795984,\n",
       "        1454.04869443, 1451.32730919, 1460.53567081, 1461.35483441,\n",
       "        1467.20298158, 1491.28451187, 1493.24409557, 1520.        ,\n",
       "        1511.54740416, 1537.35498861, 1514.65747211, 1532.47107394,\n",
       "        1547.63940525, 1560.03755404, 1575.842082  , 1559.60876022,\n",
       "        1583.96307859, 1584.32866241, 1610.78874972, 1614.44810212,\n",
       "        2697.66625181, 1602.85823897, 1607.21862905, 1633.14763387,\n",
       "        1631.57750561, 1626.82835722, 1659.82123344, 1650.50825158,\n",
       "        1679.62440108, 1683.94560089, 1689.54026464, 1698.08874575,\n",
       "        1693.17554053, 1687.70173628, 1699.77610672, 1703.42628373,\n",
       "        1712.9620291 , 1725.04248779, 1727.76567243, 1719.70105044,\n",
       "        1719.16534966, 1733.53028938, 1725.79348549, 1734.33929504,\n",
       "        1758.58309311, 1757.19234364, 1801.67254904, 1799.45243456,\n",
       "        1809.61403721, 1773.66802116, 1814.84358951, 1831.68457377,\n",
       "        1836.45896404, 1858.08379873, 1909.8782514 , 1932.50304665,\n",
       "        1944.40794928, 1983.17949308, 1980.04185196, 2044.93228359,\n",
       "        2046.43810188, 2049.68176643, 2114.16466586, 2140.        ,\n",
       "        2153.98398413, 2163.29892602, 2154.0519924 , 2161.63405578,\n",
       "        2146.14996954, 2188.30341063, 2221.18228001, 2242.7074962 ,\n",
       "        2266.64625084, 2332.230391  , 2328.70423094, 2343.65014672,\n",
       "        2351.89069379, 2376.03418785, 2373.81106363, 2420.48674349,\n",
       "        2413.2875271 , 2436.10837516, 2459.58215585, 2452.60695032,\n",
       "                  nan, 2486.2983669 , 2565.53779224, 2558.89465614,\n",
       "        2573.01350426, 2580.        , 2645.3591865 , 2729.64842433,\n",
       "        2737.68479427, 2795.26290252, 2780.        , 1215.38746589,\n",
       "        1260.68494886, 1298.64445624, 1377.60432709, 1400.77731284,\n",
       "        1414.89624312, 1415.17858772, 1526.45965867, 1645.43752398,\n",
       "        1690.80801594, 1681.33565677, 1679.69723171, 1688.35497874,\n",
       "        1715.77480976, 1746.04276768, 1714.13509952, 1818.11838237,\n",
       "        1856.95919409, 1861.36874316, 2485.92121418, 2584.75008902,\n",
       "        1393.73228105, 1765.05303832, 1480.54535959, 1808.0510569 ]),\n",
       " 'z2': nan,\n",
       " 'FinalDepth': 3000,\n",
       " 'cluster_parent': array(['MEC', 'MEC', 'MEC', 'MEC', 'MEC', 'MEC', 'MEC', 'MEC', 'MEC',\n",
       "        'MEC', 'MEC', 'MEC', 'MEC', 'MEC', 'MEC', 'MEC', 'MEC', 'MEC',\n",
       "        'MEC', 'MEC', 'MEC', 'MEC', 'MEC', 'MEC', 'MEC', 'MEC', 'MEC',\n",
       "        'MEC', 'MEC', 'MEC', 'MEC', 'MEC', 'MEC', 'MEC', 'MEC', 'MEC',\n",
       "        'MEC', 'MEC', 'MEC', 'MEC', 'ECT', 'MEC', 'MEC', 'MEC', 'MEC',\n",
       "        'MEC', 'MEC', 'MEC', 'MEC', 'MEC', 'MEC', 'MEC', 'MEC', 'MEC',\n",
       "        'MEC', 'MEC', 'MEC', 'MEC', 'MEC', 'MEC', 'MEC', 'MEC', 'MEC',\n",
       "        'MEC', 'MEC', 'MEC', 'MEC', 'MEC', 'MEC', 'MEC', 'MEC', 'MEC',\n",
       "        'MEC', 'MEC', 'MEC', 'MEC', 'MEC', 'MEC', 'MEC', 'ECT', 'ECT',\n",
       "        'ECT', 'ECT', 'ECT', 'ECT', 'ECT', 'ECT', 'ECT', 'ECT', 'ECT',\n",
       "        'ECT', 'ECT', 'ECT', 'ECT', 'ECT', 'ECT', 'ECT', 'ECT', 'ECT',\n",
       "        'ECT', 'ECT', 'ECT', 'ECT', 'ECT', 'ECT', 'ECT', 'ECT', 'ECT',\n",
       "        'ECT', 'ECT', 'ECT', 'ECT', 'ECT', 'ECT', 'ECT', 'MEC', 'MEC',\n",
       "        'MEC', 'MEC', 'MEC', 'MEC', 'MEC', 'MEC', 'MEC', 'MEC', 'MEC',\n",
       "        'MEC', 'MEC', 'MEC', 'MEC', 'MEC', 'MEC', 'MEC', 'MEC', 'ECT',\n",
       "        'ECT', 'MEC', 'MEC', 'MEC', 'MEC'], dtype=object)}"
      ]
     },
     "execution_count": 11,
     "metadata": {},
     "output_type": "execute_result"
    }
   ],
   "source": [
    "anatomy = dataset['anatomy']\n",
    "anatomy"
   ]
  },
  {
   "cell_type": "code",
   "execution_count": 10,
   "metadata": {},
   "outputs": [
    {
     "name": "stderr",
     "output_type": "stream",
     "text": [
      "C:\\Users\\attialex\\AppData\\Local\\Continuum\\anaconda3\\envs\\panda3d\\lib\\site-packages\\numpy\\core\\_methods.py:153: RuntimeWarning: invalid value encountered in reduce\n",
      "  umr_maximum(a, axis, None, out, keepdims),\n",
      "C:\\Users\\attialex\\AppData\\Local\\Continuum\\anaconda3\\envs\\panda3d\\lib\\site-packages\\numpy\\core\\_methods.py:154: RuntimeWarning: invalid value encountered in reduce\n",
      "  umr_minimum(a, axis, None, None, keepdims),\n"
     ]
    },
    {
     "name": "stdout",
     "output_type": "stream",
     "text": [
      "F:/NP_DATA\\AA1_190728_gaincontrast10_1.mat\n"
     ]
    }
   ],
   "source": [
    "region_numbers = Counter()\n",
    "raw_numbers = []\n",
    "distance = [];\n",
    "parent_winner = [];\n",
    "\n",
    "for iF in validNames:\n",
    "    try:\n",
    "        dataset = lm.loadmat(iF)\n",
    "        #print(iF)\n",
    "        if 'anatomy' in dataset:\n",
    "            anatomy = dataset['anatomy']\n",
    "        else:\n",
    "            continue\n",
    "\n",
    "        if 'parent_shifted' in anatomy:\n",
    "            parent = anatomy['parent_shifted']\n",
    "        else:\n",
    "            parent = anatomy['cluster_parent']\n",
    "        \n",
    "        idx = dataset['sp']['cgs']==2\n",
    "        dd=anatomy['tip_distance'][idx]\n",
    "        \n",
    "        \n",
    "        raw_numbers.append((np.sum(idx),np.ptp(dd)))\n",
    "        parent = parent[idx]\n",
    "        parent = [pa if len(pa) else 'Null' for pa in parent]\n",
    "        \n",
    "        region_numbers.update(parent)\n",
    "        parent_winner.append(Counter(parent).most_common(1)[0][0])\n",
    "    except:\n",
    "        print(iF)\n",
    "        \n",
    "    "
   ]
  },
  {
   "cell_type": "code",
   "execution_count": 11,
   "metadata": {},
   "outputs": [
    {
     "data": {
      "text/plain": [
       "['VISp',\n",
       " 'VISp',\n",
       " 'VISp',\n",
       " 'VISp',\n",
       " 'SCm',\n",
       " 'SCm',\n",
       " 'VISp',\n",
       " 'VISp',\n",
       " 'SCm',\n",
       " 'SCm',\n",
       " 'RHP',\n",
       " 'VISp',\n",
       " 'VISp',\n",
       " 'VISp',\n",
       " 'LGd',\n",
       " 'CA',\n",
       " 'RSPv',\n",
       " 'RSPv',\n",
       " 'VISp',\n",
       " 'MBmot',\n",
       " 'LAT',\n",
       " 'VISa',\n",
       " 'RSPv',\n",
       " 'RSPv',\n",
       " 'RHP',\n",
       " 'MG',\n",
       " 'LGd',\n",
       " 'BS',\n",
       " 'RSPd',\n",
       " 'PRT',\n",
       " 'VISp',\n",
       " 'hc',\n",
       " 'VISp',\n",
       " 'VISp',\n",
       " 'VISp',\n",
       " 'hc',\n",
       " 'VISpm',\n",
       " 'VISpm',\n",
       " 'SSp-bfd',\n",
       " 'RSPv',\n",
       " 'RSPv',\n",
       " 'RSPagl',\n",
       " 'PRT',\n",
       " 'MEC',\n",
       " 'MEC',\n",
       " 'MEC',\n",
       " 'MEC',\n",
       " 'MEC',\n",
       " 'MEC',\n",
       " 'MEC',\n",
       " 'MEC',\n",
       " 'MEC',\n",
       " 'MEC',\n",
       " 'MEC',\n",
       " 'MEC',\n",
       " 'MEC',\n",
       " 'MEC',\n",
       " 'MEC',\n",
       " 'MEC',\n",
       " 'ECT',\n",
       " 'MEC',\n",
       " 'MEC',\n",
       " 'MEC',\n",
       " 'MEC',\n",
       " 'MEC',\n",
       " 'MEC',\n",
       " 'MEC',\n",
       " 'MEC',\n",
       " 'MEC',\n",
       " 'MEC',\n",
       " 'MEC',\n",
       " 'MEC',\n",
       " 'MEC',\n",
       " 'MEC',\n",
       " 'MEC',\n",
       " 'MEC',\n",
       " 'MEC',\n",
       " 'MEC',\n",
       " 'MEC',\n",
       " 'MEC',\n",
       " 'MEC',\n",
       " 'MEC',\n",
       " 'MEC',\n",
       " 'MEC',\n",
       " 'MEC',\n",
       " 'MEC',\n",
       " 'MEC',\n",
       " 'MEC',\n",
       " 'MEC',\n",
       " 'MEC',\n",
       " 'MEC',\n",
       " 'MEC',\n",
       " 'MEC',\n",
       " 'MEC',\n",
       " 'MEC',\n",
       " 'MEC',\n",
       " 'MEC',\n",
       " 'MEC',\n",
       " 'MEC',\n",
       " 'MEC',\n",
       " 'MEC',\n",
       " 'MEC',\n",
       " 'MEC',\n",
       " 'ECT',\n",
       " 'MEC',\n",
       " 'MEC',\n",
       " 'MEC',\n",
       " 'MEC',\n",
       " 'ECT',\n",
       " 'MEC',\n",
       " 'ECT',\n",
       " 'MEC',\n",
       " 'MEC',\n",
       " 'MEC',\n",
       " 'MEC',\n",
       " 'MEC',\n",
       " 'MEC',\n",
       " 'MEC',\n",
       " 'MEC',\n",
       " 'MEC',\n",
       " 'MEC',\n",
       " 'MEC',\n",
       " 'MEC',\n",
       " 'MEC',\n",
       " 'MEC',\n",
       " 'MEC',\n",
       " 'ECT',\n",
       " 'MEC',\n",
       " 'MEC',\n",
       " 'MEC',\n",
       " 'ECT',\n",
       " 'MEC']"
      ]
     },
     "execution_count": 11,
     "metadata": {},
     "output_type": "execute_result"
    }
   ],
   "source": [
    "parent_winner"
   ]
  },
  {
   "cell_type": "code",
   "execution_count": 12,
   "metadata": {},
   "outputs": [
    {
     "data": {
      "text/plain": [
       "<matplotlib.axes._subplots.AxesSubplot at 0x29a9d25a908>"
      ]
     },
     "execution_count": 12,
     "metadata": {},
     "output_type": "execute_result"
    },
    {
     "data": {
      "image/png": "[encoded data removed]",
      "text/plain": [
       "<Figure size 432x288 with 1 Axes>"
      ]
     },
     "metadata": {
      "needs_background": "light"
     },
     "output_type": "display_data"
    }
   ],
   "source": [
    "ff=pd.Series(region_numbers.elements())\n",
    "\n",
    "ff.value_counts()[:5].plot('barh')"
   ]
  },
  {
   "cell_type": "code",
   "execution_count": 20,
   "metadata": {},
   "outputs": [
    {
     "data": {
      "image/png": "[encoded data removed]",
      "text/plain": [
       "<Figure size 432x288 with 1 Axes>"
      ]
     },
     "metadata": {
      "needs_background": "light"
     },
     "output_type": "display_data"
    }
   ],
   "source": [
    "gg=region_numbers.elements()\n",
    "gg=['RSP' if el.startswith('RS') else el for el in gg]\n",
    "ff=pd.Series(gg)\n",
    "ax=ff.value_counts()[:5].plot('barh')\n",
    "fig = ax.get_figure()\n",
    "fig.savefig(r'C:\\temp\\region_hist.pdf')"
   ]
  },
  {
   "cell_type": "code",
   "execution_count": 31,
   "metadata": {},
   "outputs": [
    {
     "data": {
      "text/plain": [
       "1917"
      ]
     },
     "execution_count": 31,
     "metadata": {},
     "output_type": "execute_result"
    }
   ],
   "source": [
    "idx = 0\n",
    "for ii in gg:\n",
    "    if ii=='RSP':\n",
    "        idx = idx+1\n",
    "idx"
   ]
  },
  {
   "cell_type": "code",
   "execution_count": 17,
   "metadata": {},
   "outputs": [
    {
     "data": {
      "text/plain": [
       "<matplotlib.axes._subplots.AxesSubplot at 0x2320056a828>"
      ]
     },
     "execution_count": 17,
     "metadata": {},
     "output_type": "execute_result"
    },
    {
     "data": {
      "image/png": "[encoded data removed]",
      "text/plain": [
       "<Figure size 432x288 with 1 Axes>"
      ]
     },
     "metadata": {
      "needs_background": "light"
     },
     "output_type": "display_data"
    }
   ],
   "source": [
    "n_units = [x[0] for x in raw_numbers]\n",
    "ff=pd.Series(n_units)\n",
    "ff.hist()"
   ]
  },
  {
   "cell_type": "code",
   "execution_count": 20,
   "metadata": {},
   "outputs": [
    {
     "data": {
      "text/plain": [
       "<matplotlib.axes._subplots.AxesSubplot at 0x232006c6780>"
      ]
     },
     "execution_count": 20,
     "metadata": {},
     "output_type": "execute_result"
    },
    {
     "data": {
      "image/png": "[encoded data removed]",
      "text/plain": [
       "<Figure size 432x288 with 1 Axes>"
      ]
     },
     "metadata": {
      "needs_background": "light"
     },
     "output_type": "display_data"
    }
   ],
   "source": [
    "sn.distplot(n_units,kde=False)"
   ]
  },
  {
   "cell_type": "code",
   "execution_count": 35,
   "metadata": {},
   "outputs": [
    {
     "name": "stderr",
     "output_type": "stream",
     "text": [
      "C:\\Users\\attialex\\AppData\\Local\\Continuum\\anaconda3\\envs\\panda3d\\lib\\site-packages\\scipy\\stats\\stats.py:1713: FutureWarning: Using a non-tuple sequence for multidimensional indexing is deprecated; use `arr[tuple(seq)]` instead of `arr[seq]`. In the future this will be interpreted as an array index, `arr[np.array(seq)]`, which will result either in an error or a different result.\n",
      "  return np.add.reduce(sorted[indexer] * weights, axis=axis) / sumval\n"
     ]
    },
    {
     "data": {
      "image/png": "[encoded data removed]",
      "text/plain": [
       "<Figure size 432x288 with 1 Axes>"
      ]
     },
     "metadata": {
      "needs_background": "light"
     },
     "output_type": "display_data"
    }
   ],
   "source": [
    "n_norm = [x[0]/x[1]*1000 for x in raw_numbers]\n",
    "n_norm=np.array(n_norm)\n",
    "n_norm=n_norm[np.logical_not(np.isnan(n_norm))]\n",
    "ax = sn.distplot(n_norm,kde=False)\n",
    "fig = ax.get_figure()\n",
    "fig.savefig(r'C:\\temp\\units_mm.pdf')"
   ]
  },
  {
   "cell_type": "code",
   "execution_count": 17,
   "metadata": {},
   "outputs": [
    {
     "data": {
      "text/plain": [
       "[186, 2670.663394158115, 'VISp']"
      ]
     },
     "execution_count": 17,
     "metadata": {},
     "output_type": "execute_result"
    }
   ],
   "source": [
    "gg=['RSP' if el.startswith('RS') else el for el in parent_winner]\n",
    "gg=['VISp' if el.startswith('LGd') else el for el in gg]\n",
    "gg=['VISp' if el.startswith('VIS') or el.startswith('SS') else el for el in gg]\n",
    "gg=['MEC' if el.startswith('ECT') else el for el in gg]\n",
    "data=[[x[0][0], x[0][1], x[1]] for x in zip(raw_numbers,gg)]\n",
    "data[3]"
   ]
  },
  {
   "cell_type": "code",
   "execution_count": 138,
   "metadata": {},
   "outputs": [
    {
     "name": "stderr",
     "output_type": "stream",
     "text": [
      "'c' argument looks like a single numeric RGB or RGBA sequence, which should be avoided as value-mapping will have precedence in case its length matches with 'x' & 'y'.  Please use a 2-D array with a single row if you really want to specify the same RGB or RGBA value for all points.\n"
     ]
    },
    {
     "data": {
      "text/plain": [
       "<matplotlib.axes._subplots.AxesSubplot at 0x232033d9cf8>"
      ]
     },
     "execution_count": 138,
     "metadata": {},
     "output_type": "execute_result"
    },
    {
     "data": {
      "image/png": "[encoded data removed]",
      "text/plain": [
       "<Figure size 432x288 with 1 Axes>"
      ]
     },
     "metadata": {},
     "output_type": "display_data"
    }
   ],
   "source": [
    "\n",
    "df=pd.DataFrame(data,columns=['n units', 'insertion length','parent'])\n",
    "df.plot.scatter(x='n units',y='insertion length')\n"
   ]
  },
  {
   "cell_type": "code",
   "execution_count": 147,
   "metadata": {},
   "outputs": [
    {
     "data": {
      "image/png": "[encoded data removed]",
      "text/plain": [
       "<Figure size 432x288 with 1 Axes>"
      ]
     },
     "metadata": {},
     "output_type": "display_data"
    }
   ],
   "source": [
    "import matplotlib.pyplot as plt\n",
    "import matplotlib\n",
    "matplotlib.rcParams['pdf.fonttype'] = 42\n",
    "matplotlib.rcParams['ps.fonttype'] = 42\n",
    "sn.set_style(\"darkgrid\")\n",
    "#sn.set_style(\"whitegrid\")\n",
    "ax=sn.scatterplot(x=\"n units\", y=\"insertion length\", hue=\"parent\",data=df,palette = sn.color_palette(\"Paired\",12))#palette=sn.diverging_palette(312, 33, l=60, n=13, center=\"light\"))\n",
    "plt.legend(bbox_to_anchor=(1.05, 1), loc=2, borderaxespad=0.)\n",
    "fig = ax.get_figure()\n",
    "fig.savefig(r'C:\\temp\\scatter_units.pdf',bbox_inches=\"tight\")\n",
    "#sn.despine()"
   ]
  }
 ],
 "metadata": {
  "kernelspec": {
   "display_name": "Python 3",
   "language": "python",
   "name": "python3"
  },
  "language_info": {
   "codemirror_mode": {
    "name": "ipython",
    "version": 3
   },
   "file_extension": ".py",
   "mimetype": "text/x-python",
   "name": "python",
   "nbconvert_exporter": "python",
   "pygments_lexer": "ipython3",
   "version": "3.7.2"
  }
 },
 "nbformat": 4,
 "nbformat_minor": 2
}
