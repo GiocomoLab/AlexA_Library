{
 "cells": [
  {
   "cell_type": "markdown",
   "metadata": {},
   "source": [
    "position_decoder.ipynb\n",
    "\n",
    "Script to create a position decoder using multinomial logistic regression\n",
    "\n",
    "MGC 7/15/2019"
   ]
  },
  {
   "cell_type": "code",
   "execution_count": null,
   "metadata": {},
   "outputs": [],
   "source": [
    "# packages\n",
    "import os\n",
    "import pandas\n",
    "import math\n",
    "from scipy import io\n",
    "import numpy\n",
    "from numpy import squeeze\n",
    "from sklearn import linear_model\n",
    "import matplotlib\n",
    "import matplotlib.pyplot as plt\n",
    "\n",
    "# data\n",
    "neuropix_folder = os.path.join('E:\\\\','Dropbox','Work','neuropixels')\n",
    "data_dir = os.path.join(neuropix_folder,'data')\n",
    "# sessions = pandas.read_excel(io=os.path.join(neuropix_folder,'sessions_range_of_contrasts.xlsx'))\n",
    "\n",
    "# params\n",
    "params = pandas.read_excel(io=os.path.join(os.getcwd(),'UniversalParams.xlsx'))\n",
    "dt = 0.2 # time bin for decoding, in ms\n",
    "every_nth_time_bin = round(dt/float(params['TimeBin']));\n",
    "dx = 5 # spatial bin for decoding, in cm\n",
    "track_start = float(params['TrackStart'])\n",
    "track_end = float(params['TrackEnd'])\n",
    "numposbins = math.floor((track_end-track_start)/dx)\n",
    "posx_edges = numpy.linspace(track_start,track_end,numposbins+1)"
   ]
  },
  {
   "cell_type": "code",
   "execution_count": null,
   "metadata": {},
   "outputs": [],
   "source": [
    "# load data from an example session\n",
    "dat = io.loadmat(os.path.join(data_dir,'npI5_0417_baseline_1.mat'))\n",
    "post = dat['post']\n",
    "posx = dat['posx']\n",
    "trial = dat['trial']\n",
    "sp = dat['sp'][0][0]\n",
    "\n",
    "# resample post, posx, and trial according to desired dt\n",
    "post = post[0::every_nth_time_bin]\n",
    "posx = posx[0::every_nth_time_bin]\n",
    "trial = trial[0::every_nth_time_bin]\n",
    "\n",
    "# get cell ids of \"good\" units\n",
    "good_cells = sp['cids'][sp['cgs']==2]\n",
    "\n",
    "# time bins for position decoding\n",
    "numtimebins = len(post)\n",
    "post_edges = squeeze(numpy.linspace(min(post)-dt/2,max(post)+dt/2,numtimebins+1))\n",
    "post_centers = post_edges[range(0,len(post_edges)-1)]+dt/2\n",
    "\n",
    "# posx categories for position decoding (binned)\n",
    "posx_bin = numpy.digitize(posx,posx_edges)\n",
    "\n",
    "# count spikes in each time bin for each cell\n",
    "spikecount = numpy.empty((len(good_cells),len(post),))\n",
    "spikecount[:] = numpy.nan\n",
    "for cell_idx in range(len(good_cells)):   \n",
    "    spike_t = sp['st'][sp['clu']==good_cells[cell_idx]]\n",
    "    spikecount[cell_idx,:] = numpy.histogram(spike_t,bins=post_edges)[0]"
   ]
  },
  {
   "cell_type": "code",
   "execution_count": null,
   "metadata": {},
   "outputs": [],
   "source": [
    "# train the logistic regression model\n",
    "train_set = squeeze(trial<=30)\n",
    "X_train = numpy.transpose(spikecount[:,train_set])\n",
    "y_train = squeeze(posx_bin[train_set])\n",
    "model = linear_model.LogisticRegression(random_state=0, solver='lbfgs', multi_class='multinomial', max_iter=10000, C = 0.1).fit(X_train, y_train) "
   ]
  },
  {
   "cell_type": "code",
   "execution_count": null,
   "metadata": {},
   "outputs": [],
   "source": [
    "# test the model \n",
    "test_set = squeeze(trial==33)\n",
    "X_test = numpy.transpose(spikecount[:,test_set])\n",
    "y_test = squeeze(posx_bin[test_set])\n",
    "y_pred = model.predict(X_test)\n",
    "\n",
    "fig, ax = plt.subplots()\n",
    "ax.plot(range(len(y_test)),y_test)\n",
    "ax.plot(range(len(y_pred)),y_pred)\n",
    "\n",
    "ax.set(xlabel='time bin', ylabel='pos bin', title='test trial')\n",
    "ax.grid()\n",
    "plt.show()"
   ]
  }
 ],
 "metadata": {
  "kernelspec": {
   "display_name": "Python 3",
   "language": "python",
   "name": "python3"
  },
  "language_info": {
   "codemirror_mode": {
    "name": "ipython",
    "version": 3
   },
   "file_extension": ".py",
   "mimetype": "text/x-python",
   "name": "python",
   "nbconvert_exporter": "python",
   "pygments_lexer": "ipython3",
   "version": "3.7.2"
  }
 },
 "nbformat": 4,
 "nbformat_minor": 2
}
