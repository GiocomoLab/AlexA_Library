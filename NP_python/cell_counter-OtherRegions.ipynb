{
 "cells": [
  {
   "cell_type": "code",
   "execution_count": 1,
   "metadata": {},
   "outputs": [],
   "source": [
    "import sys\n",
    "sys.path.append('./helpers')\n",
    "import loadmat as lm\n",
    "import glob\n",
    "import os\n",
    "from collections import Counter\n",
    "import numpy as np\n",
    "import seaborn as sn\n",
    "import pandas as pd"
   ]
  },
  {
   "cell_type": "code",
   "execution_count": 2,
   "metadata": {},
   "outputs": [
    {
     "data": {
      "text/plain": [
       "1"
      ]
     },
     "execution_count": 2,
     "metadata": {},
     "output_type": "execute_result"
    }
   ],
   "source": [
    "1"
   ]
  },
  {
   "cell_type": "code",
   "execution_count": 3,
   "metadata": {},
   "outputs": [],
   "source": [
    "files = glob.glob('F:/NP_DATA/AA*.mat')"
   ]
  },
  {
   "cell_type": "code",
   "execution_count": 4,
   "metadata": {},
   "outputs": [],
   "source": [
    "fn = os.path.basename(files[1])\n",
    "animal=fn.split('_')[0]\n",
    "date = fn.split('_')[1]\n",
    "\n",
    "pp=dict();\n",
    "validNames = [];\n",
    "for cntr in range(len(files)):\n",
    "    current_file = files[cntr]\n",
    "    fn = os.path.basename(current_file)\n",
    "    animal=fn.split('_')[0]\n",
    "    date = fn.split('_')[1]\n",
    "    if animal in pp:\n",
    "        datelist = pp[animal]\n",
    "        \n",
    "        if date in datelist:\n",
    "            None\n",
    "        else:\n",
    "            pp[animal].append(date)\n",
    "            validNames.append(current_file)\n",
    "    else:\n",
    "        pp[animal]=[];\n",
    "        pp[animal].append(date)\n",
    "        validNames.append(current_file)"
   ]
  },
  {
   "cell_type": "code",
   "execution_count": 23,
   "metadata": {},
   "outputs": [
    {
     "name": "stdout",
     "output_type": "stream",
     "text": [
      "F:/NP_DATA\\AA1_190728_gaincontrast10_1.mat\n"
     ]
    }
   ],
   "source": [
    "region_numbers = Counter()\n",
    "raw_numbers = []\n",
    "distance = [];\n",
    "parent_winner = [];\n",
    "count_regions = ['VIS','RS']\n",
    "elements_per_region = dict()\n",
    "for el in count_regions:\n",
    "    elements_per_region[el]=list()\n",
    "\n",
    "for iF in validNames:\n",
    "    try:\n",
    "        dataset = lm.loadmat(iF)\n",
    "        #print(iF)\n",
    "        if 'anatomy' in dataset:\n",
    "            anatomy = dataset['anatomy']\n",
    "        else:\n",
    "            continue\n",
    "\n",
    "        if 'parent_shifted' in anatomy:\n",
    "            parent = anatomy['parent_shifted']\n",
    "        else:\n",
    "            parent = anatomy['cluster_parent']\n",
    "        \n",
    "        idx = dataset['sp']['cgs']==2\n",
    "        dd=anatomy['tip_distance'][idx]\n",
    "        \n",
    "        \n",
    "        raw_numbers.append((np.sum(idx),np.ptp(dd)))\n",
    "        parent = parent[idx]\n",
    "        parent = [pa if len(pa) else 'Null' for pa in parent]\n",
    "        \n",
    "        region_numbers.update(parent)\n",
    "        parent_winner.append(Counter(parent).most_common(1)[0][0])\n",
    "        for reg in count_regions:\n",
    "            tmp = sum([1 if el.startswith(reg) else 0 for el in parent])\n",
    "            if tmp>0:\n",
    "                elements_per_region[reg].append(tmp)\n",
    "            \n",
    "    except:\n",
    "        print(iF)\n",
    "        \n",
    "    "
   ]
  },
  {
   "cell_type": "code",
   "execution_count": 11,
   "metadata": {},
   "outputs": [
    {
     "data": {
      "image/png": "[encoded data removed]",
      "text/plain": [
       "<Figure size 432x288 with 1 Axes>"
      ]
     },
     "metadata": {},
     "output_type": "display_data"
    }
   ],
   "source": [
    "gg=region_numbers.elements()\n",
    "gg=['RSP' if el.startswith('RS') else el for el in gg]\n",
    "ff=pd.Series(gg)\n",
    "ax=ff.value_counts()[:5].plot('barh')\n",
    "fig = ax.get_figure()\n",
    "fig.savefig(r'C:\\temp\\region_hist.pdf')"
   ]
  },
  {
   "cell_type": "code",
   "execution_count": 12,
   "metadata": {},
   "outputs": [
    {
     "data": {
      "text/plain": [
       "<matplotlib.axes._subplots.AxesSubplot at 0x2410806b8d0>"
      ]
     },
     "execution_count": 12,
     "metadata": {},
     "output_type": "execute_result"
    },
    {
     "data": {
      "image/png": "[encoded data removed]",
      "text/plain": [
       "<Figure size 432x288 with 1 Axes>"
      ]
     },
     "metadata": {},
     "output_type": "display_data"
    }
   ],
   "source": [
    "n_units = [x[0] for x in raw_numbers]\n",
    "ff=pd.Series(n_units)\n",
    "ff.hist()"
   ]
  },
  {
   "cell_type": "code",
   "execution_count": 32,
   "metadata": {},
   "outputs": [
    {
     "data": {
      "text/plain": [
       "<matplotlib.axes._subplots.AxesSubplot at 0x24102173ef0>"
      ]
     },
     "execution_count": 32,
     "metadata": {},
     "output_type": "execute_result"
    },
    {
     "data": {
      "image/png": "[encoded data removed]",
      "text/plain": [
       "<Figure size 432x288 with 1 Axes>"
      ]
     },
     "metadata": {},
     "output_type": "display_data"
    }
   ],
   "source": [
    "sn.swarmplot(y=elements_per_region['VIS'])"
   ]
  },
  {
   "cell_type": "code",
   "execution_count": 41,
   "metadata": {},
   "outputs": [],
   "source": [
    "df = pd.DataFrame(columns=['Region', 'N_Units'])"
   ]
  },
  {
   "cell_type": "code",
   "execution_count": 46,
   "metadata": {},
   "outputs": [],
   "source": [
    "df = pd.DataFrame(columns=['Region', 'N_Units'])\n",
    "li = elements_per_region['VIS']\n",
    "for el in li:\n",
    "    df = df.append({'Region': 'VIS', 'N_Units': el}, ignore_index=True)\n",
    "\n",
    "li = elements_per_region['RS']\n",
    "for el in li:\n",
    "    df = df.append({'Region': 'RS', 'N_Units': el}, ignore_index=True)"
   ]
  },
  {
   "cell_type": "code",
   "execution_count": 50,
   "metadata": {},
   "outputs": [
    {
     "data": {
      "image/png": "[encoded data removed]",
      "text/plain": [
       "<Figure size 432x288 with 1 Axes>"
      ]
     },
     "metadata": {},
     "output_type": "display_data"
    }
   ],
   "source": [
    "\n",
    "ax = sn.swarmplot(y=\"Region\", x=\"N_Units\", data=df)\n",
    "\n",
    "fig = ax.get_figure()\n",
    "fig.savefig(r'C:\\temp\\units_VISRSC.pdf')"
   ]
  },
  {
   "cell_type": "code",
   "execution_count": 60,
   "metadata": {},
   "outputs": [
    {
     "data": {
      "image/png": "[encoded data removed]",
      "text/plain": [
       "<Figure size 432x288 with 1 Axes>"
      ]
     },
     "metadata": {},
     "output_type": "display_data"
    }
   ],
   "source": [
    "#sn.distplot(elements_per_region['VIS'])\n",
    "ax=pd.Series(elements_per_region['VIS']).hist()\n",
    "fig = ax.get_figure()\n",
    "fig.savefig(r'C:\\temp\\units_VIS.pdf')"
   ]
  },
  {
   "cell_type": "code",
   "execution_count": 61,
   "metadata": {},
   "outputs": [
    {
     "data": {
      "image/png": "[encoded data removed]",
      "text/plain": [
       "<Figure size 432x288 with 1 Axes>"
      ]
     },
     "metadata": {},
     "output_type": "display_data"
    }
   ],
   "source": [
    "ax=pd.Series(elements_per_region['RS']).hist()\n",
    "fig = ax.get_figure()\n",
    "fig.savefig(r'C:\\temp\\units_RSC.pdf')"
   ]
  }
 ],
 "metadata": {
  "kernelspec": {
   "display_name": "Python (base)",
   "language": "python",
   "name": "base"
  },
  "language_info": {
   "codemirror_mode": {
    "name": "ipython",
    "version": 3
   },
   "file_extension": ".py",
   "mimetype": "text/x-python",
   "name": "python",
   "nbconvert_exporter": "python",
   "pygments_lexer": "ipython3",
   "version": "3.6.5"
  }
 },
 "nbformat": 4,
 "nbformat_minor": 2
}
